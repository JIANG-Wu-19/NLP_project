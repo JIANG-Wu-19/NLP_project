{
 "cells": [
  {
   "cell_type": "code",
   "execution_count": 1,
   "id": "6bc71d60-39e7-4c72-9fcc-d61f45152ef7",
   "metadata": {
    "execution": {
     "iopub.execute_input": "2023-08-08T01:26:00.513549Z",
     "iopub.status.busy": "2023-08-08T01:26:00.512362Z",
     "iopub.status.idle": "2023-08-08T01:26:04.406096Z",
     "shell.execute_reply": "2023-08-08T01:26:04.405024Z",
     "shell.execute_reply.started": "2023-08-08T01:26:00.513498Z"
    },
    "scrolled": true
   },
   "outputs": [
    {
     "name": "stdout",
     "output_type": "stream",
     "text": [
      "Archive:  /home/aistudio/data/data232024/ChatGPT生成文本检测器公开数据-更新.zip\r\n",
      "   creating: /home/aistudio/data/ChatGPT生成文本检测器公开数据-更新/\r\n",
      "  inflating: /home/aistudio/data/ChatGPT生成文本检测器公开数据-更新/sample_submit.csv  \r\n",
      "  inflating: /home/aistudio/data/ChatGPT生成文本检测器公开数据-更新/test.csv  \r\n",
      "  inflating: /home/aistudio/data/ChatGPT生成文本检测器公开数据-更新/train.csv  \r\n"
     ]
    }
   ],
   "source": [
    "!unzip -o /home/aistudio/data/data232024/ChatGPT生成文本检测器公开数据-更新.zip -d /home/aistudio/data # 解压原始数据集\n",
    "!cp /home/aistudio/data/data233414/* /home/aistudio/work/ # 复制模型参数文件"
   ]
  },
  {
   "cell_type": "code",
   "execution_count": 2,
   "id": "cbafbb26-0842-4353-8f42-6ab2a480c17a",
   "metadata": {
    "execution": {
     "iopub.execute_input": "2023-08-08T01:26:04.409082Z",
     "iopub.status.busy": "2023-08-08T01:26:04.408052Z",
     "iopub.status.idle": "2023-08-08T01:26:10.243955Z",
     "shell.execute_reply": "2023-08-08T01:26:10.242805Z",
     "shell.execute_reply.started": "2023-08-08T01:26:04.409040Z"
    },
    "scrolled": true
   },
   "outputs": [
    {
     "name": "stderr",
     "output_type": "stream",
     "text": [
      "/opt/conda/envs/python35-paddle120-env/lib/python3.10/site-packages/tqdm/auto.py:21: TqdmWarning: IProgress not found. Please update jupyter and ipywidgets. See https://ipywidgets.readthedocs.io/en/stable/user_install.html\r\n",
      "  from .autonotebook import tqdm as notebook_tqdm\r\n",
      "/opt/conda/envs/python35-paddle120-env/lib/python3.10/site-packages/_distutils_hack/__init__.py:33: UserWarning: Setuptools is replacing distutils.\r\n",
      "  warnings.warn(\"Setuptools is replacing distutils.\")\r\n"
     ]
    }
   ],
   "source": [
    "import numpy as np # 数值计算\n",
    "import pandas as pd # 数据分析\n",
    "from tqdm import tqdm # 进度条显示\n",
    "import paddle # PaddlePaddle 深度学习框架\n",
    "from paddlenlp.transformers import AutoModelForSequenceClassification, AutoTokenizer # 飞桨自然语言处理工具包（模型、分词器）\n",
    "from paddle.io import DataLoader # 数据加载器\n",
    "from paddlenlp.datasets import MapDataset # 数据集转换\n",
    "from sklearn.model_selection import train_test_split # 训练集与验证集拆分\n",
    "import matplotlib.pyplot as plt # 绘图"
   ]
  },
  {
   "cell_type": "code",
   "execution_count": 3,
   "id": "ff3ecaad-fa81-4ff3-a1c6-65457ff53e8a",
   "metadata": {
    "execution": {
     "iopub.execute_input": "2023-08-08T01:26:10.246393Z",
     "iopub.status.busy": "2023-08-08T01:26:10.245447Z",
     "iopub.status.idle": "2023-08-08T01:26:10.496683Z",
     "shell.execute_reply": "2023-08-08T01:26:10.495427Z",
     "shell.execute_reply.started": "2023-08-08T01:26:10.246362Z"
    },
    "scrolled": true
   },
   "outputs": [
    {
     "data": {
      "text/html": [
       "<div>\n",
       "<style scoped>\n",
       "    .dataframe tbody tr th:only-of-type {\n",
       "        vertical-align: middle;\n",
       "    }\n",
       "\n",
       "    .dataframe tbody tr th {\n",
       "        vertical-align: top;\n",
       "    }\n",
       "\n",
       "    .dataframe thead th {\n",
       "        text-align: right;\n",
       "    }\n",
       "</style>\n",
       "<table border=\"1\" class=\"dataframe\">\n",
       "  <thead>\n",
       "    <tr style=\"text-align: right;\">\n",
       "      <th></th>\n",
       "      <th>name</th>\n",
       "      <th>label</th>\n",
       "      <th>content</th>\n",
       "    </tr>\n",
       "  </thead>\n",
       "  <tbody>\n",
       "    <tr>\n",
       "      <th>7365</th>\n",
       "      <td>7366</td>\n",
       "      <td>1</td>\n",
       "      <td>[1914 1908  778 1279 5051 5212  329 1570 4253 ...</td>\n",
       "    </tr>\n",
       "    <tr>\n",
       "      <th>886</th>\n",
       "      <td>887</td>\n",
       "      <td>0</td>\n",
       "      <td>[1564 1105 1254 1241  751 4266 1759 4294 5212 ...</td>\n",
       "    </tr>\n",
       "    <tr>\n",
       "      <th>6587</th>\n",
       "      <td>6588</td>\n",
       "      <td>0</td>\n",
       "      <td>[ 199  998 3635  177 3125 2593 2483 2669 1424 ...</td>\n",
       "    </tr>\n",
       "    <tr>\n",
       "      <th>7789</th>\n",
       "      <td>7790</td>\n",
       "      <td>1</td>\n",
       "      <td>[ 248 3094 3874  169 1894 1782  506 2214 5212 ...</td>\n",
       "    </tr>\n",
       "    <tr>\n",
       "      <th>13526</th>\n",
       "      <td>13527</td>\n",
       "      <td>1</td>\n",
       "      <td>[2177 3169 2417 3125 2178  672 5212  304  253 ...</td>\n",
       "    </tr>\n",
       "  </tbody>\n",
       "</table>\n",
       "</div>"
      ],
      "text/plain": [
       "        name  label                                            content\n",
       "7365    7366      1  [1914 1908  778 1279 5051 5212  329 1570 4253 ...\n",
       "886      887      0  [1564 1105 1254 1241  751 4266 1759 4294 5212 ...\n",
       "6587    6588      0  [ 199  998 3635  177 3125 2593 2483 2669 1424 ...\n",
       "7789    7790      1  [ 248 3094 3874  169 1894 1782  506 2214 5212 ...\n",
       "13526  13527      1  [2177 3169 2417 3125 2178  672 5212  304  253 ..."
      ]
     },
     "execution_count": 3,
     "metadata": {},
     "output_type": "execute_result"
    }
   ],
   "source": [
    "data = pd.read_csv(\"/home/aistudio/data/ChatGPT生成文本检测器公开数据-更新/train.csv\") # 加载赛事提供的训练数据\n",
    "test_data = pd.read_csv(\"/home/aistudio/data/ChatGPT生成文本检测器公开数据-更新/test.csv\") # 加载赛事所需提交的测试数据\n",
    "data.sample(frac=1).head() # 随机查看 5 行训练数据中的内容"
   ]
  },
  {
   "cell_type": "code",
   "execution_count": 4,
   "id": "2dced634-dfe2-42d7-88c1-fe157e13a6b9",
   "metadata": {
    "execution": {
     "iopub.execute_input": "2023-08-08T01:26:10.499180Z",
     "iopub.status.busy": "2023-08-08T01:26:10.498343Z",
     "iopub.status.idle": "2023-08-08T01:26:20.157327Z",
     "shell.execute_reply": "2023-08-08T01:26:20.156425Z",
     "shell.execute_reply.started": "2023-08-08T01:26:10.499127Z"
    },
    "scrolled": true
   },
   "outputs": [
    {
     "name": "stderr",
     "output_type": "stream",
     "text": [
      "\u001b[32m[2023-08-08 09:26:10,501] [    INFO]\u001b[0m - We are using <class 'paddlenlp.transformers.ernie.modeling.ErnieForSequenceClassification'> to load 'ernie-3.0-mini-zh'.\u001b[0m\r\n",
      "\u001b[32m[2023-08-08 09:26:10,504] [    INFO]\u001b[0m - Model config ErnieConfig {\r\n",
      "  \"attention_probs_dropout_prob\": 0.1,\r\n",
      "  \"enable_recompute\": false,\r\n",
      "  \"fuse\": false,\r\n",
      "  \"hidden_act\": \"gelu\",\r\n",
      "  \"hidden_dropout_prob\": 0.1,\r\n",
      "  \"hidden_size\": 384,\r\n",
      "  \"initializer_range\": 0.02,\r\n",
      "  \"intermediate_size\": 1536,\r\n",
      "  \"layer_norm_eps\": 1e-12,\r\n",
      "  \"max_position_embeddings\": 2048,\r\n",
      "  \"model_type\": \"ernie\",\r\n",
      "  \"num_attention_heads\": 12,\r\n",
      "  \"num_hidden_layers\": 6,\r\n",
      "  \"pad_token_id\": 0,\r\n",
      "  \"paddlenlp_version\": null,\r\n",
      "  \"pool_act\": \"tanh\",\r\n",
      "  \"task_id\": 0,\r\n",
      "  \"task_type_vocab_size\": 16,\r\n",
      "  \"type_vocab_size\": 4,\r\n",
      "  \"use_task_id\": true,\r\n",
      "  \"vocab_size\": 40000\r\n",
      "}\r\n",
      "\u001b[0m\r\n",
      "\u001b[32m[2023-08-08 09:26:10,506] [    INFO]\u001b[0m - Configuration saved in /home/aistudio/.paddlenlp/models/ernie-3.0-mini-zh/config.json\u001b[0m\r\n",
      "\u001b[32m[2023-08-08 09:26:10,508] [    INFO]\u001b[0m - Downloading ernie_3.0_mini_zh.pdparams from https://bj.bcebos.com/paddlenlp/models/transformers/ernie_3.0/ernie_3.0_mini_zh.pdparams\u001b[0m\r\n",
      "100%|██████████| 109M/109M [00:05<00:00, 21.8MB/s] \r\n",
      "W0808 09:26:19.619578   299 gpu_resources.cc:119] Please NOTE: device: 0, GPU Compute Capability: 7.0, Driver API Version: 11.2, Runtime API Version: 11.6\r\n",
      "W0808 09:26:19.652228   299 gpu_resources.cc:149] device: 0, cuDNN Version: 8.4.\r\n",
      "\u001b[33m[2023-08-08 09:26:19,927] [ WARNING]\u001b[0m - Some weights of the model checkpoint at ernie-3.0-mini-zh were not used when initializing ErnieForSequenceClassification: ['ernie.encoder.layers.6.self_attn.k_proj.bias', 'ernie.encoder.layers.6.linear2.weight', 'ernie.encoder.layers.6.self_attn.q_proj.weight', 'ernie.encoder.layers.6.self_attn.out_proj.weight', 'ernie.encoder.layers.6.norm2.weight', 'ernie.encoder.layers.6.norm1.bias', 'ernie.encoder.layers.6.self_attn.q_proj.bias', 'ernie.encoder.layers.6.linear1.bias', 'ernie.encoder.layers.6.self_attn.v_proj.bias', 'ernie.encoder.layers.6.linear1.weight', 'ernie.encoder.layers.6.linear2.bias', 'ernie.encoder.layers.6.self_attn.out_proj.bias', 'ernie.encoder.layers.6.norm2.bias', 'ernie.encoder.layers.6.norm1.weight', 'ernie.encoder.layers.6.self_attn.v_proj.weight', 'ernie.encoder.layers.6.self_attn.k_proj.weight']\r\n",
      "- This IS expected if you are initializing ErnieForSequenceClassification from the checkpoint of a model trained on another task or with another architecture (e.g. initializing a BertForSequenceClassification model from a BertForPreTraining model).\r\n",
      "- This IS NOT expected if you are initializing ErnieForSequenceClassification from the checkpoint of a model that you expect to be exactly identical (initializing a BertForSequenceClassification model from a BertForSequenceClassification model).\u001b[0m\r\n",
      "\u001b[33m[2023-08-08 09:26:19,929] [ WARNING]\u001b[0m - Some weights of ErnieForSequenceClassification were not initialized from the model checkpoint at ernie-3.0-mini-zh and are newly initialized: ['ernie.pooler.dense.bias', 'ernie.pooler.dense.weight', 'classifier.bias', 'classifier.weight']\r\n",
      "You should probably TRAIN this model on a down-stream task to be able to use it for predictions and inference.\u001b[0m\r\n",
      "\u001b[32m[2023-08-08 09:26:19,930] [    INFO]\u001b[0m - We are using <class 'paddlenlp.transformers.ernie.tokenizer.ErnieTokenizer'> to load 'ernie-3.0-mini-zh'.\u001b[0m\r\n",
      "\u001b[32m[2023-08-08 09:26:19,932] [    INFO]\u001b[0m - Downloading https://bj.bcebos.com/paddlenlp/models/transformers/ernie_3.0/ernie_3.0_mini_zh_vocab.txt and saved to /home/aistudio/.paddlenlp/models/ernie-3.0-mini-zh\u001b[0m\r\n",
      "\u001b[32m[2023-08-08 09:26:20,004] [    INFO]\u001b[0m - Downloading ernie_3.0_mini_zh_vocab.txt from https://bj.bcebos.com/paddlenlp/models/transformers/ernie_3.0/ernie_3.0_mini_zh_vocab.txt\u001b[0m\r\n",
      "100%|██████████| 182k/182k [00:00<00:00, 3.49MB/s]\r\n",
      "\u001b[32m[2023-08-08 09:26:20,151] [    INFO]\u001b[0m - tokenizer config file saved in /home/aistudio/.paddlenlp/models/ernie-3.0-mini-zh/tokenizer_config.json\u001b[0m\r\n",
      "\u001b[32m[2023-08-08 09:26:20,153] [    INFO]\u001b[0m - Special tokens file saved in /home/aistudio/.paddlenlp/models/ernie-3.0-mini-zh/special_tokens_map.json\u001b[0m\r\n"
     ]
    }
   ],
   "source": [
    "# 载入模型与分词器\n",
    "\n",
    "# 使用 ernie-3.0-mini-zh 序列分类模型，并将分类类别数设置为 2\n",
    "model = AutoModelForSequenceClassification.from_pretrained(\"ernie-3.0-mini-zh\", num_classes=2)\n",
    "# 使用 ernie-3.0-mini-zh 分词器\n",
    "tokenizer = AutoTokenizer.from_pretrained(\"ernie-3.0-mini-zh\")\n",
    "\n",
    "# 定义 AdamW 优化器，学习率为 0.000001\n",
    "optimizer = paddle.optimizer.AdamW(1e-5, parameters=model.parameters())\n",
    "\n",
    "# 定义损失函数为交叉熵函数，计算每个 mini batch 的均值\n",
    "loss_fn = paddle.nn.loss.CrossEntropyLoss(reduction='mean')"
   ]
  },
  {
   "cell_type": "code",
   "execution_count": 5,
   "id": "a262c335-c0b4-491b-8974-1eb0296161a8",
   "metadata": {
    "execution": {
     "iopub.execute_input": "2023-08-08T01:26:20.160141Z",
     "iopub.status.busy": "2023-08-08T01:26:20.159470Z",
     "iopub.status.idle": "2023-08-08T01:26:20.194747Z",
     "shell.execute_reply": "2023-08-08T01:26:20.193985Z",
     "shell.execute_reply.started": "2023-08-08T01:26:20.160112Z"
    },
    "scrolled": true
   },
   "outputs": [],
   "source": [
    "# 按照 10% 的比例划分训练集与验证集\n",
    "train_data, valid_data = train_test_split(data, test_size=0.1)\n",
    "\n",
    "# 下面就是一堆操作，把数据变成数据加载器可以识别的格式，自定义数据集类也是同样的效果\n",
    "train_dict = train_data.to_dict(orient='records')\n",
    "valid_dict = valid_data.to_dict(orient='records')\n",
    "train_ds = MapDataset(train_dict)\n",
    "valid_ds = MapDataset(valid_dict)\n",
    "\n",
    "# 将整体数据拆分为 30 份，放入数据加载器，就是一次性会有 <总样本数 / 30> 份数据同时并行计算，份数越多，并行越多，显存占用越大，需要根据需求来选择\n",
    "train_loader = DataLoader(train_dict, batch_size=60, shuffle=True) # 训练数据可以随机打乱，让模型更好地学习，减轻学习到无关特征的问题\n",
    "valid_loader = DataLoader(valid_dict, batch_size=60) # 这里用的是 V100 32G，如果是显存更小的卡，需要调小一点，不然会炸显存"
   ]
  },
  {
   "cell_type": "code",
   "execution_count": 6,
   "id": "0a1e5b8d-b034-448c-b3d3-2932d582bdff",
   "metadata": {
    "execution": {
     "iopub.execute_input": "2023-08-08T01:26:20.196185Z",
     "iopub.status.busy": "2023-08-08T01:26:20.195848Z",
     "iopub.status.idle": "2023-08-08T05:09:49.644854Z",
     "shell.execute_reply": "2023-08-08T05:09:49.643864Z",
     "shell.execute_reply.started": "2023-08-08T01:26:20.196161Z"
    },
    "scrolled": true,
    "tags": []
   },
   "outputs": [
    {
     "name": "stderr",
     "output_type": "stream",
     "text": [
      "100%|██████████| 210/210 [01:01<00:00,  3.41it/s]\r\n",
      "100%|██████████| 24/24 [00:06<00:00,  3.76it/s]\r\n"
     ]
    },
    {
     "name": "stdout",
     "output_type": "stream",
     "text": [
      "Epoch 0, Val loss 0.182319, Val Accuracy 0.950000\r\n"
     ]
    },
    {
     "name": "stderr",
     "output_type": "stream",
     "text": [
      "100%|██████████| 210/210 [01:00<00:00,  3.50it/s]\r\n",
      "100%|██████████| 24/24 [00:06<00:00,  3.61it/s]\r\n"
     ]
    },
    {
     "name": "stdout",
     "output_type": "stream",
     "text": [
      "Epoch 1, Val loss 0.154067, Val Accuracy 1.000000\r\n"
     ]
    },
    {
     "name": "stderr",
     "output_type": "stream",
     "text": [
      "100%|██████████| 210/210 [00:59<00:00,  3.51it/s]\r\n",
      "100%|██████████| 24/24 [00:06<00:00,  3.78it/s]\r\n"
     ]
    },
    {
     "name": "stdout",
     "output_type": "stream",
     "text": [
      "Epoch 2, Val loss 0.107706, Val Accuracy 0.950000\r\n"
     ]
    },
    {
     "name": "stderr",
     "output_type": "stream",
     "text": [
      "100%|██████████| 210/210 [00:59<00:00,  3.50it/s]\r\n",
      "100%|██████████| 24/24 [00:06<00:00,  3.78it/s]\r\n"
     ]
    },
    {
     "name": "stdout",
     "output_type": "stream",
     "text": [
      "Epoch 3, Val loss 0.074610, Val Accuracy 0.950000\r\n"
     ]
    },
    {
     "name": "stderr",
     "output_type": "stream",
     "text": [
      "100%|██████████| 210/210 [01:00<00:00,  3.49it/s]\r\n",
      "100%|██████████| 24/24 [00:06<00:00,  3.73it/s]\r\n"
     ]
    },
    {
     "name": "stdout",
     "output_type": "stream",
     "text": [
      "Epoch 4, Val loss 0.062524, Val Accuracy 0.950000\r\n"
     ]
    },
    {
     "name": "stderr",
     "output_type": "stream",
     "text": [
      "100%|██████████| 210/210 [00:59<00:00,  3.50it/s]\r\n",
      "100%|██████████| 24/24 [00:06<00:00,  3.75it/s]\r\n"
     ]
    },
    {
     "name": "stdout",
     "output_type": "stream",
     "text": [
      "Epoch 5, Val loss 0.055125, Val Accuracy 1.000000\r\n"
     ]
    },
    {
     "name": "stderr",
     "output_type": "stream",
     "text": [
      "100%|██████████| 210/210 [01:00<00:00,  3.47it/s]\r\n",
      "100%|██████████| 24/24 [00:06<00:00,  3.76it/s]\r\n"
     ]
    },
    {
     "name": "stdout",
     "output_type": "stream",
     "text": [
      "Epoch 6, Val loss 0.047927, Val Accuracy 1.000000\r\n"
     ]
    },
    {
     "name": "stderr",
     "output_type": "stream",
     "text": [
      "100%|██████████| 210/210 [00:59<00:00,  3.50it/s]\r\n",
      "100%|██████████| 24/24 [00:06<00:00,  3.78it/s]\r\n"
     ]
    },
    {
     "name": "stdout",
     "output_type": "stream",
     "text": [
      "Epoch 7, Val loss 0.049535, Val Accuracy 1.000000\r\n"
     ]
    },
    {
     "name": "stderr",
     "output_type": "stream",
     "text": [
      "100%|██████████| 210/210 [01:00<00:00,  3.50it/s]\r\n",
      "100%|██████████| 24/24 [00:06<00:00,  3.79it/s]\r\n"
     ]
    },
    {
     "name": "stdout",
     "output_type": "stream",
     "text": [
      "Epoch 8, Val loss 0.045825, Val Accuracy 0.950000\r\n"
     ]
    },
    {
     "name": "stderr",
     "output_type": "stream",
     "text": [
      "100%|██████████| 210/210 [00:59<00:00,  3.51it/s]\r\n",
      "100%|██████████| 24/24 [00:06<00:00,  3.74it/s]\r\n"
     ]
    },
    {
     "name": "stdout",
     "output_type": "stream",
     "text": [
      "Epoch 9, Val loss 0.045190, Val Accuracy 0.950000\r\n"
     ]
    },
    {
     "name": "stderr",
     "output_type": "stream",
     "text": [
      "100%|██████████| 210/210 [01:00<00:00,  3.49it/s]\r\n",
      "100%|██████████| 24/24 [00:06<00:00,  3.71it/s]\r\n"
     ]
    },
    {
     "name": "stdout",
     "output_type": "stream",
     "text": [
      "Epoch 10, Val loss 0.034812, Val Accuracy 0.950000\r\n"
     ]
    },
    {
     "name": "stderr",
     "output_type": "stream",
     "text": [
      "100%|██████████| 210/210 [01:00<00:00,  3.49it/s]\r\n",
      "100%|██████████| 24/24 [00:06<00:00,  3.79it/s]\r\n"
     ]
    },
    {
     "name": "stdout",
     "output_type": "stream",
     "text": [
      "Epoch 11, Val loss 0.066121, Val Accuracy 1.000000\r\n"
     ]
    },
    {
     "name": "stderr",
     "output_type": "stream",
     "text": [
      "100%|██████████| 210/210 [00:59<00:00,  3.52it/s]\r\n",
      "100%|██████████| 24/24 [00:06<00:00,  3.80it/s]\r\n"
     ]
    },
    {
     "name": "stdout",
     "output_type": "stream",
     "text": [
      "Epoch 12, Val loss 0.035197, Val Accuracy 1.000000\r\n"
     ]
    },
    {
     "name": "stderr",
     "output_type": "stream",
     "text": [
      "100%|██████████| 24/24 [00:06<00:00,  3.80it/s]]\r\n"
     ]
    },
    {
     "name": "stdout",
     "output_type": "stream",
     "text": [
      "Epoch 13, Val loss 0.038373, Val Accuracy 1.000000\r\n"
     ]
    },
    {
     "name": "stderr",
     "output_type": "stream",
     "text": [
      "100%|██████████| 210/210 [01:00<00:00,  3.50it/s]\r\n",
      "100%|██████████| 24/24 [00:06<00:00,  3.76it/s]\r\n"
     ]
    },
    {
     "name": "stdout",
     "output_type": "stream",
     "text": [
      "Epoch 14, Val loss 0.031854, Val Accuracy 1.000000\r\n"
     ]
    },
    {
     "name": "stderr",
     "output_type": "stream",
     "text": [
      "100%|██████████| 210/210 [01:00<00:00,  3.49it/s]\r\n",
      "100%|██████████| 24/24 [00:06<00:00,  3.73it/s]\r\n"
     ]
    },
    {
     "name": "stdout",
     "output_type": "stream",
     "text": [
      "Epoch 15, Val loss 0.027640, Val Accuracy 1.000000\r\n"
     ]
    },
    {
     "name": "stderr",
     "output_type": "stream",
     "text": [
      "100%|██████████| 210/210 [00:59<00:00,  3.50it/s]\r\n",
      "100%|██████████| 24/24 [00:06<00:00,  3.78it/s]\r\n"
     ]
    },
    {
     "name": "stdout",
     "output_type": "stream",
     "text": [
      "Epoch 16, Val loss 0.049124, Val Accuracy 1.000000\r\n"
     ]
    },
    {
     "name": "stderr",
     "output_type": "stream",
     "text": [
      "100%|██████████| 210/210 [00:59<00:00,  3.50it/s]\r\n",
      "100%|██████████| 24/24 [00:06<00:00,  3.79it/s]\r\n"
     ]
    },
    {
     "name": "stdout",
     "output_type": "stream",
     "text": [
      "Epoch 17, Val loss 0.050160, Val Accuracy 1.000000\r\n"
     ]
    },
    {
     "name": "stderr",
     "output_type": "stream",
     "text": [
      "100%|██████████| 24/24 [00:06<00:00,  3.80it/s]]\r\n"
     ]
    },
    {
     "name": "stdout",
     "output_type": "stream",
     "text": [
      "Epoch 18, Val loss 0.025495, Val Accuracy 1.000000\r\n"
     ]
    },
    {
     "name": "stderr",
     "output_type": "stream",
     "text": [
      "100%|██████████| 210/210 [00:59<00:00,  3.52it/s]\r\n",
      "100%|██████████| 24/24 [00:06<00:00,  3.80it/s]\r\n"
     ]
    },
    {
     "name": "stdout",
     "output_type": "stream",
     "text": [
      "Epoch 19, Val loss 0.033436, Val Accuracy 0.950000\r\n"
     ]
    },
    {
     "name": "stderr",
     "output_type": "stream",
     "text": [
      "100%|██████████| 210/210 [00:59<00:00,  3.51it/s]\r\n",
      "100%|██████████| 24/24 [00:06<00:00,  3.74it/s]\r\n"
     ]
    },
    {
     "name": "stdout",
     "output_type": "stream",
     "text": [
      "Epoch 20, Val loss 0.041167, Val Accuracy 1.000000\r\n"
     ]
    },
    {
     "name": "stderr",
     "output_type": "stream",
     "text": [
      "100%|██████████| 210/210 [01:00<00:00,  3.49it/s]\r\n",
      "100%|██████████| 24/24 [00:06<00:00,  3.76it/s]\r\n"
     ]
    },
    {
     "name": "stdout",
     "output_type": "stream",
     "text": [
      "Epoch 21, Val loss 0.039050, Val Accuracy 1.000000\r\n"
     ]
    },
    {
     "name": "stderr",
     "output_type": "stream",
     "text": [
      "100%|██████████| 210/210 [00:59<00:00,  3.53it/s]\r\n",
      "100%|██████████| 24/24 [00:06<00:00,  3.81it/s]\r\n"
     ]
    },
    {
     "name": "stdout",
     "output_type": "stream",
     "text": [
      "Epoch 22, Val loss 0.041160, Val Accuracy 1.000000\r\n"
     ]
    },
    {
     "name": "stderr",
     "output_type": "stream",
     "text": [
      "100%|██████████| 210/210 [00:59<00:00,  3.52it/s]\r\n",
      "100%|██████████| 24/24 [00:06<00:00,  3.79it/s]\r\n"
     ]
    },
    {
     "name": "stdout",
     "output_type": "stream",
     "text": [
      "Epoch 23, Val loss 0.031026, Val Accuracy 1.000000\r\n"
     ]
    },
    {
     "name": "stderr",
     "output_type": "stream",
     "text": [
      "100%|██████████| 210/210 [00:59<00:00,  3.51it/s]\r\n",
      "100%|██████████| 24/24 [00:06<00:00,  3.79it/s]\r\n"
     ]
    },
    {
     "name": "stdout",
     "output_type": "stream",
     "text": [
      "Epoch 24, Val loss 0.042528, Val Accuracy 1.000000\r\n"
     ]
    },
    {
     "name": "stderr",
     "output_type": "stream",
     "text": [
      "100%|██████████| 210/210 [00:59<00:00,  3.52it/s]\r\n",
      "100%|██████████| 24/24 [00:06<00:00,  3.78it/s]\r\n"
     ]
    },
    {
     "name": "stdout",
     "output_type": "stream",
     "text": [
      "Epoch 25, Val loss 0.045372, Val Accuracy 1.000000\r\n"
     ]
    },
    {
     "name": "stderr",
     "output_type": "stream",
     "text": [
      "100%|██████████| 210/210 [00:59<00:00,  3.52it/s]\r\n",
      "100%|██████████| 24/24 [00:06<00:00,  3.78it/s]\r\n"
     ]
    },
    {
     "name": "stdout",
     "output_type": "stream",
     "text": [
      "Epoch 26, Val loss 0.052611, Val Accuracy 1.000000\r\n"
     ]
    },
    {
     "name": "stderr",
     "output_type": "stream",
     "text": [
      "100%|██████████| 210/210 [00:59<00:00,  3.52it/s]\r\n",
      "100%|██████████| 24/24 [00:06<00:00,  3.78it/s]\r\n"
     ]
    },
    {
     "name": "stdout",
     "output_type": "stream",
     "text": [
      "Epoch 27, Val loss 0.030943, Val Accuracy 1.000000\r\n"
     ]
    },
    {
     "name": "stderr",
     "output_type": "stream",
     "text": [
      "100%|██████████| 210/210 [00:59<00:00,  3.52it/s]\r\n",
      "100%|██████████| 24/24 [00:06<00:00,  3.78it/s]\r\n"
     ]
    },
    {
     "name": "stdout",
     "output_type": "stream",
     "text": [
      "Epoch 28, Val loss 0.040831, Val Accuracy 1.000000\r\n"
     ]
    },
    {
     "name": "stderr",
     "output_type": "stream",
     "text": [
      "100%|██████████| 210/210 [01:00<00:00,  3.50it/s]\r\n",
      "100%|██████████| 24/24 [00:06<00:00,  3.72it/s]\r\n"
     ]
    },
    {
     "name": "stdout",
     "output_type": "stream",
     "text": [
      "Epoch 29, Val loss 0.039572, Val Accuracy 1.000000\r\n"
     ]
    },
    {
     "name": "stderr",
     "output_type": "stream",
     "text": [
      "100%|██████████| 210/210 [00:59<00:00,  3.50it/s]\r\n",
      "100%|██████████| 24/24 [00:06<00:00,  3.76it/s]\r\n"
     ]
    },
    {
     "name": "stdout",
     "output_type": "stream",
     "text": [
      "Epoch 30, Val loss 0.041113, Val Accuracy 1.000000\r\n"
     ]
    },
    {
     "name": "stderr",
     "output_type": "stream",
     "text": [
      "100%|██████████| 210/210 [00:59<00:00,  3.52it/s]\r\n",
      "100%|██████████| 24/24 [00:06<00:00,  3.79it/s]\r\n"
     ]
    },
    {
     "name": "stdout",
     "output_type": "stream",
     "text": [
      "Epoch 32, Val loss 0.044333, Val Accuracy 1.000000\r\n"
     ]
    },
    {
     "name": "stderr",
     "output_type": "stream",
     "text": [
      "100%|██████████| 210/210 [00:59<00:00,  3.50it/s]\r\n",
      "100%|██████████| 24/24 [00:06<00:00,  3.76it/s]\r\n"
     ]
    },
    {
     "name": "stdout",
     "output_type": "stream",
     "text": [
      "Epoch 33, Val loss 0.039032, Val Accuracy 1.000000\r\n"
     ]
    },
    {
     "name": "stderr",
     "output_type": "stream",
     "text": [
      "100%|██████████| 210/210 [00:59<00:00,  3.50it/s]\r\n",
      "100%|██████████| 24/24 [00:06<00:00,  3.76it/s]\r\n"
     ]
    },
    {
     "name": "stdout",
     "output_type": "stream",
     "text": [
      "Epoch 34, Val loss 0.037334, Val Accuracy 1.000000\r\n"
     ]
    },
    {
     "name": "stderr",
     "output_type": "stream",
     "text": [
      "100%|██████████| 210/210 [01:00<00:00,  3.50it/s]\r\n",
      "100%|██████████| 24/24 [00:06<00:00,  3.75it/s]\r\n"
     ]
    },
    {
     "name": "stdout",
     "output_type": "stream",
     "text": [
      "Epoch 35, Val loss 0.041080, Val Accuracy 1.000000\r\n"
     ]
    },
    {
     "name": "stderr",
     "output_type": "stream",
     "text": [
      "100%|██████████| 210/210 [00:59<00:00,  3.51it/s]\r\n",
      "100%|██████████| 24/24 [00:06<00:00,  3.79it/s]\r\n"
     ]
    },
    {
     "name": "stdout",
     "output_type": "stream",
     "text": [
      "Epoch 36, Val loss 0.038055, Val Accuracy 1.000000\r\n"
     ]
    },
    {
     "name": "stderr",
     "output_type": "stream",
     "text": [
      "100%|██████████| 210/210 [00:59<00:00,  3.50it/s]\r\n",
      "100%|██████████| 24/24 [00:06<00:00,  3.75it/s]\r\n"
     ]
    },
    {
     "name": "stdout",
     "output_type": "stream",
     "text": [
      "Epoch 37, Val loss 0.029652, Val Accuracy 1.000000\r\n"
     ]
    },
    {
     "name": "stderr",
     "output_type": "stream",
     "text": [
      "100%|██████████| 210/210 [00:59<00:00,  3.51it/s]\r\n",
      "100%|██████████| 24/24 [00:06<00:00,  3.76it/s]\r\n"
     ]
    },
    {
     "name": "stdout",
     "output_type": "stream",
     "text": [
      "Epoch 38, Val loss 0.044069, Val Accuracy 1.000000\r\n"
     ]
    },
    {
     "name": "stderr",
     "output_type": "stream",
     "text": [
      "100%|██████████| 210/210 [00:59<00:00,  3.50it/s]\r\n",
      "100%|██████████| 24/24 [00:06<00:00,  3.79it/s]\r\n"
     ]
    },
    {
     "name": "stdout",
     "output_type": "stream",
     "text": [
      "Epoch 39, Val loss 0.035461, Val Accuracy 1.000000\r\n"
     ]
    },
    {
     "name": "stderr",
     "output_type": "stream",
     "text": [
      "100%|██████████| 210/210 [00:59<00:00,  3.52it/s]\r\n",
      "100%|██████████| 24/24 [00:06<00:00,  3.79it/s]\r\n"
     ]
    },
    {
     "name": "stdout",
     "output_type": "stream",
     "text": [
      "Epoch 40, Val loss 0.044322, Val Accuracy 1.000000\r\n"
     ]
    },
    {
     "name": "stderr",
     "output_type": "stream",
     "text": [
      "100%|██████████| 210/210 [00:59<00:00,  3.51it/s]\r\n",
      "100%|██████████| 24/24 [00:06<00:00,  3.78it/s]\r\n"
     ]
    },
    {
     "name": "stdout",
     "output_type": "stream",
     "text": [
      "Epoch 41, Val loss 0.140117, Val Accuracy 1.000000\r\n"
     ]
    },
    {
     "name": "stderr",
     "output_type": "stream",
     "text": [
      "100%|██████████| 24/24 [00:06<00:00,  3.71it/s]]\r\n"
     ]
    },
    {
     "name": "stdout",
     "output_type": "stream",
     "text": [
      "Epoch 42, Val loss 0.034985, Val Accuracy 1.000000\r\n"
     ]
    },
    {
     "name": "stderr",
     "output_type": "stream",
     "text": [
      "100%|██████████| 210/210 [01:00<00:00,  3.48it/s]\r\n",
      "100%|██████████| 24/24 [00:06<00:00,  3.76it/s]\r\n"
     ]
    },
    {
     "name": "stdout",
     "output_type": "stream",
     "text": [
      "Epoch 43, Val loss 0.041783, Val Accuracy 1.000000\r\n"
     ]
    },
    {
     "name": "stderr",
     "output_type": "stream",
     "text": [
      "100%|██████████| 210/210 [00:59<00:00,  3.51it/s]\r\n",
      "100%|██████████| 24/24 [00:06<00:00,  3.79it/s]\r\n"
     ]
    },
    {
     "name": "stdout",
     "output_type": "stream",
     "text": [
      "Epoch 44, Val loss 0.043957, Val Accuracy 1.000000\r\n"
     ]
    },
    {
     "name": "stderr",
     "output_type": "stream",
     "text": [
      "100%|██████████| 210/210 [00:59<00:00,  3.51it/s]\r\n",
      "100%|██████████| 24/24 [00:06<00:00,  3.78it/s]\r\n"
     ]
    },
    {
     "name": "stdout",
     "output_type": "stream",
     "text": [
      "Epoch 45, Val loss 0.041178, Val Accuracy 1.000000\r\n"
     ]
    },
    {
     "name": "stderr",
     "output_type": "stream",
     "text": [
      "100%|██████████| 210/210 [00:59<00:00,  3.51it/s]\r\n",
      "100%|██████████| 24/24 [00:06<00:00,  3.79it/s]\r\n"
     ]
    },
    {
     "name": "stdout",
     "output_type": "stream",
     "text": [
      "Epoch 46, Val loss 0.047729, Val Accuracy 1.000000\r\n"
     ]
    },
    {
     "name": "stderr",
     "output_type": "stream",
     "text": [
      "100%|██████████| 210/210 [00:59<00:00,  3.52it/s]\r\n",
      "100%|██████████| 24/24 [00:06<00:00,  3.79it/s]\r\n"
     ]
    },
    {
     "name": "stdout",
     "output_type": "stream",
     "text": [
      "Epoch 47, Val loss 0.041512, Val Accuracy 1.000000\r\n"
     ]
    },
    {
     "name": "stderr",
     "output_type": "stream",
     "text": [
      "100%|██████████| 210/210 [01:00<00:00,  3.48it/s]\r\n",
      "100%|██████████| 24/24 [00:06<00:00,  3.74it/s]\r\n"
     ]
    },
    {
     "name": "stdout",
     "output_type": "stream",
     "text": [
      "Epoch 48, Val loss 0.040948, Val Accuracy 1.000000\r\n"
     ]
    },
    {
     "name": "stderr",
     "output_type": "stream",
     "text": [
      "100%|██████████| 210/210 [01:00<00:00,  3.49it/s]\r\n",
      "100%|██████████| 24/24 [00:06<00:00,  3.73it/s]\r\n"
     ]
    },
    {
     "name": "stdout",
     "output_type": "stream",
     "text": [
      "Epoch 49, Val loss 0.042825, Val Accuracy 1.000000\r\n"
     ]
    },
    {
     "name": "stderr",
     "output_type": "stream",
     "text": [
      "100%|██████████| 210/210 [00:59<00:00,  3.50it/s]\r\n",
      "100%|██████████| 24/24 [00:06<00:00,  3.78it/s]\r\n"
     ]
    },
    {
     "name": "stdout",
     "output_type": "stream",
     "text": [
      "Epoch 50, Val loss 0.073146, Val Accuracy 1.000000\r\n"
     ]
    },
    {
     "name": "stderr",
     "output_type": "stream",
     "text": [
      "100%|██████████| 210/210 [01:00<00:00,  3.50it/s]\r\n",
      "100%|██████████| 24/24 [00:06<00:00,  3.63it/s]\r\n"
     ]
    },
    {
     "name": "stdout",
     "output_type": "stream",
     "text": [
      "Epoch 51, Val loss 0.033650, Val Accuracy 1.000000\r\n"
     ]
    },
    {
     "name": "stderr",
     "output_type": "stream",
     "text": [
      "100%|██████████| 210/210 [01:00<00:00,  3.50it/s]\r\n",
      "100%|██████████| 24/24 [00:06<00:00,  3.77it/s]\r\n"
     ]
    },
    {
     "name": "stdout",
     "output_type": "stream",
     "text": [
      "Epoch 52, Val loss 0.043719, Val Accuracy 1.000000\r\n"
     ]
    },
    {
     "name": "stderr",
     "output_type": "stream",
     "text": [
      "100%|██████████| 210/210 [01:00<00:00,  3.49it/s]\r\n",
      "100%|██████████| 24/24 [00:06<00:00,  3.77it/s]\r\n"
     ]
    },
    {
     "name": "stdout",
     "output_type": "stream",
     "text": [
      "Epoch 53, Val loss 0.049422, Val Accuracy 1.000000\r\n"
     ]
    },
    {
     "name": "stderr",
     "output_type": "stream",
     "text": [
      "100%|██████████| 210/210 [00:59<00:00,  3.50it/s]\r\n",
      "100%|██████████| 24/24 [00:06<00:00,  3.78it/s]\r\n"
     ]
    },
    {
     "name": "stdout",
     "output_type": "stream",
     "text": [
      "Epoch 54, Val loss 0.041070, Val Accuracy 1.000000\r\n"
     ]
    },
    {
     "name": "stderr",
     "output_type": "stream",
     "text": [
      "100%|██████████| 210/210 [01:00<00:00,  3.50it/s]\r\n",
      "100%|██████████| 24/24 [00:06<00:00,  3.76it/s]\r\n"
     ]
    },
    {
     "name": "stdout",
     "output_type": "stream",
     "text": [
      "Epoch 55, Val loss 0.050385, Val Accuracy 1.000000\r\n"
     ]
    },
    {
     "name": "stderr",
     "output_type": "stream",
     "text": [
      "100%|██████████| 210/210 [00:59<00:00,  3.50it/s]\r\n",
      "100%|██████████| 24/24 [00:06<00:00,  3.79it/s]\r\n"
     ]
    },
    {
     "name": "stdout",
     "output_type": "stream",
     "text": [
      "Epoch 56, Val loss 0.038420, Val Accuracy 1.000000\r\n"
     ]
    },
    {
     "name": "stderr",
     "output_type": "stream",
     "text": [
      "100%|██████████| 210/210 [01:00<00:00,  3.49it/s]\r\n",
      "100%|██████████| 24/24 [00:06<00:00,  3.77it/s]\r\n"
     ]
    },
    {
     "name": "stdout",
     "output_type": "stream",
     "text": [
      "Epoch 57, Val loss 0.052167, Val Accuracy 1.000000\r\n"
     ]
    },
    {
     "name": "stderr",
     "output_type": "stream",
     "text": [
      "100%|██████████| 210/210 [01:00<00:00,  3.49it/s]\r\n",
      "100%|██████████| 24/24 [00:06<00:00,  3.75it/s]\r\n"
     ]
    },
    {
     "name": "stdout",
     "output_type": "stream",
     "text": [
      "Epoch 58, Val loss 0.039306, Val Accuracy 1.000000\r\n"
     ]
    },
    {
     "name": "stderr",
     "output_type": "stream",
     "text": [
      "100%|██████████| 210/210 [01:00<00:00,  3.50it/s]\r\n",
      "100%|██████████| 24/24 [00:06<00:00,  3.76it/s]\r\n"
     ]
    },
    {
     "name": "stdout",
     "output_type": "stream",
     "text": [
      "Epoch 59, Val loss 0.047342, Val Accuracy 1.000000\r\n"
     ]
    },
    {
     "name": "stderr",
     "output_type": "stream",
     "text": [
      "100%|██████████| 210/210 [00:59<00:00,  3.50it/s]\r\n",
      "100%|██████████| 24/24 [00:06<00:00,  3.63it/s]\r\n"
     ]
    },
    {
     "name": "stdout",
     "output_type": "stream",
     "text": [
      "Epoch 60, Val loss 0.054526, Val Accuracy 1.000000\r\n"
     ]
    },
    {
     "name": "stderr",
     "output_type": "stream",
     "text": [
      "100%|██████████| 210/210 [00:59<00:00,  3.51it/s]\r\n",
      "100%|██████████| 24/24 [00:06<00:00,  3.79it/s]\r\n"
     ]
    },
    {
     "name": "stdout",
     "output_type": "stream",
     "text": [
      "Epoch 61, Val loss 0.049517, Val Accuracy 1.000000\r\n"
     ]
    },
    {
     "name": "stderr",
     "output_type": "stream",
     "text": [
      "100%|██████████| 210/210 [00:59<00:00,  3.51it/s]\r\n",
      "100%|██████████| 24/24 [00:06<00:00,  3.78it/s]\r\n"
     ]
    },
    {
     "name": "stdout",
     "output_type": "stream",
     "text": [
      "Epoch 62, Val loss 0.049286, Val Accuracy 1.000000\r\n"
     ]
    },
    {
     "name": "stderr",
     "output_type": "stream",
     "text": [
      "100%|██████████| 210/210 [00:59<00:00,  3.51it/s]\r\n",
      "100%|██████████| 24/24 [00:06<00:00,  3.77it/s]\r\n"
     ]
    },
    {
     "name": "stdout",
     "output_type": "stream",
     "text": [
      "Epoch 63, Val loss 0.116949, Val Accuracy 1.000000\r\n"
     ]
    },
    {
     "name": "stderr",
     "output_type": "stream",
     "text": [
      "100%|██████████| 210/210 [01:00<00:00,  3.50it/s]\r\n",
      "100%|██████████| 24/24 [00:06<00:00,  3.79it/s]\r\n"
     ]
    },
    {
     "name": "stdout",
     "output_type": "stream",
     "text": [
      "Epoch 64, Val loss 0.047694, Val Accuracy 1.000000\r\n"
     ]
    },
    {
     "name": "stderr",
     "output_type": "stream",
     "text": [
      "100%|██████████| 210/210 [00:59<00:00,  3.51it/s]\r\n",
      "100%|██████████| 24/24 [00:06<00:00,  3.79it/s]\r\n"
     ]
    },
    {
     "name": "stdout",
     "output_type": "stream",
     "text": [
      "Epoch 65, Val loss 0.026749, Val Accuracy 1.000000\r\n"
     ]
    },
    {
     "name": "stderr",
     "output_type": "stream",
     "text": [
      "100%|██████████| 210/210 [00:59<00:00,  3.51it/s]\r\n",
      "100%|██████████| 24/24 [00:06<00:00,  3.77it/s]\r\n"
     ]
    },
    {
     "name": "stdout",
     "output_type": "stream",
     "text": [
      "Epoch 66, Val loss 0.026553, Val Accuracy 1.000000\r\n"
     ]
    },
    {
     "name": "stderr",
     "output_type": "stream",
     "text": [
      "100%|██████████| 210/210 [00:59<00:00,  3.50it/s]\r\n",
      "100%|██████████| 24/24 [00:06<00:00,  3.79it/s]\r\n"
     ]
    },
    {
     "name": "stdout",
     "output_type": "stream",
     "text": [
      "Epoch 67, Val loss 0.030043, Val Accuracy 1.000000\r\n"
     ]
    },
    {
     "name": "stderr",
     "output_type": "stream",
     "text": [
      "100%|██████████| 210/210 [00:59<00:00,  3.50it/s]\r\n",
      "100%|██████████| 24/24 [00:06<00:00,  3.77it/s]\r\n"
     ]
    },
    {
     "name": "stdout",
     "output_type": "stream",
     "text": [
      "Epoch 68, Val loss 0.059770, Val Accuracy 1.000000\r\n"
     ]
    },
    {
     "name": "stderr",
     "output_type": "stream",
     "text": [
      "100%|██████████| 210/210 [00:59<00:00,  3.51it/s]\r\n",
      "100%|██████████| 24/24 [00:06<00:00,  3.79it/s]\r\n"
     ]
    },
    {
     "name": "stdout",
     "output_type": "stream",
     "text": [
      "Epoch 69, Val loss 0.036779, Val Accuracy 1.000000\r\n"
     ]
    },
    {
     "name": "stderr",
     "output_type": "stream",
     "text": [
      "100%|██████████| 210/210 [00:59<00:00,  3.51it/s]\r\n",
      "100%|██████████| 24/24 [00:06<00:00,  3.79it/s]\r\n"
     ]
    },
    {
     "name": "stdout",
     "output_type": "stream",
     "text": [
      "Epoch 70, Val loss 0.075497, Val Accuracy 1.000000\r\n"
     ]
    },
    {
     "name": "stderr",
     "output_type": "stream",
     "text": [
      "100%|██████████| 210/210 [00:59<00:00,  3.50it/s]\r\n",
      "100%|██████████| 24/24 [00:06<00:00,  3.73it/s]\r\n"
     ]
    },
    {
     "name": "stdout",
     "output_type": "stream",
     "text": [
      "Epoch 71, Val loss 0.097686, Val Accuracy 1.000000\r\n"
     ]
    },
    {
     "name": "stderr",
     "output_type": "stream",
     "text": [
      "100%|██████████| 210/210 [01:00<00:00,  3.50it/s]\r\n",
      "100%|██████████| 24/24 [00:06<00:00,  3.76it/s]\r\n"
     ]
    },
    {
     "name": "stdout",
     "output_type": "stream",
     "text": [
      "Epoch 72, Val loss 0.093483, Val Accuracy 1.000000\r\n"
     ]
    },
    {
     "name": "stderr",
     "output_type": "stream",
     "text": [
      "100%|██████████| 210/210 [01:00<00:00,  3.48it/s]\r\n",
      "100%|██████████| 24/24 [00:06<00:00,  3.75it/s]\r\n"
     ]
    },
    {
     "name": "stdout",
     "output_type": "stream",
     "text": [
      "Epoch 73, Val loss 0.035446, Val Accuracy 1.000000\r\n"
     ]
    },
    {
     "name": "stderr",
     "output_type": "stream",
     "text": [
      "100%|██████████| 210/210 [01:00<00:00,  3.48it/s]\r\n",
      "100%|██████████| 24/24 [00:06<00:00,  3.78it/s]\r\n"
     ]
    },
    {
     "name": "stdout",
     "output_type": "stream",
     "text": [
      "Epoch 74, Val loss 0.029093, Val Accuracy 1.000000\r\n"
     ]
    },
    {
     "name": "stderr",
     "output_type": "stream",
     "text": [
      "100%|██████████| 210/210 [01:00<00:00,  3.50it/s]\r\n",
      "100%|██████████| 24/24 [00:06<00:00,  3.79it/s]\r\n"
     ]
    },
    {
     "name": "stdout",
     "output_type": "stream",
     "text": [
      "Epoch 75, Val loss 0.023335, Val Accuracy 1.000000\r\n"
     ]
    },
    {
     "name": "stderr",
     "output_type": "stream",
     "text": [
      "100%|██████████| 210/210 [01:00<00:00,  3.50it/s]\r\n",
      "100%|██████████| 24/24 [00:06<00:00,  3.78it/s]\r\n"
     ]
    },
    {
     "name": "stdout",
     "output_type": "stream",
     "text": [
      "Epoch 76, Val loss 0.038293, Val Accuracy 1.000000\r\n"
     ]
    },
    {
     "name": "stderr",
     "output_type": "stream",
     "text": [
      "100%|██████████| 210/210 [01:00<00:00,  3.45it/s]\r\n",
      "100%|██████████| 24/24 [00:06<00:00,  3.78it/s]\r\n"
     ]
    },
    {
     "name": "stdout",
     "output_type": "stream",
     "text": [
      "Epoch 77, Val loss 0.043172, Val Accuracy 1.000000\r\n"
     ]
    },
    {
     "name": "stderr",
     "output_type": "stream",
     "text": [
      "100%|██████████| 210/210 [01:00<00:00,  3.47it/s]\r\n",
      "100%|██████████| 24/24 [00:06<00:00,  3.76it/s]\r\n"
     ]
    },
    {
     "name": "stdout",
     "output_type": "stream",
     "text": [
      "Epoch 78, Val loss 0.073019, Val Accuracy 1.000000\r\n"
     ]
    },
    {
     "name": "stderr",
     "output_type": "stream",
     "text": [
      "100%|██████████| 210/210 [01:00<00:00,  3.48it/s]\r\n",
      "100%|██████████| 24/24 [00:06<00:00,  3.75it/s]\r\n"
     ]
    },
    {
     "name": "stdout",
     "output_type": "stream",
     "text": [
      "Epoch 79, Val loss 0.045943, Val Accuracy 1.000000\r\n"
     ]
    },
    {
     "name": "stderr",
     "output_type": "stream",
     "text": [
      "100%|██████████| 210/210 [01:00<00:00,  3.45it/s]\r\n",
      "100%|██████████| 24/24 [00:06<00:00,  3.75it/s]\r\n"
     ]
    },
    {
     "name": "stdout",
     "output_type": "stream",
     "text": [
      "Epoch 80, Val loss 0.045539, Val Accuracy 1.000000\r\n"
     ]
    },
    {
     "name": "stderr",
     "output_type": "stream",
     "text": [
      "100%|██████████| 24/24 [00:06<00:00,  3.74it/s]]\r\n"
     ]
    },
    {
     "name": "stdout",
     "output_type": "stream",
     "text": [
      "Epoch 81, Val loss 0.043859, Val Accuracy 1.000000\r\n"
     ]
    },
    {
     "name": "stderr",
     "output_type": "stream",
     "text": [
      "100%|██████████| 210/210 [01:00<00:00,  3.49it/s]\r\n",
      "100%|██████████| 24/24 [00:06<00:00,  3.76it/s]\r\n"
     ]
    },
    {
     "name": "stdout",
     "output_type": "stream",
     "text": [
      "Epoch 82, Val loss 0.076332, Val Accuracy 1.000000\r\n"
     ]
    },
    {
     "name": "stderr",
     "output_type": "stream",
     "text": [
      "100%|██████████| 210/210 [01:00<00:00,  3.47it/s]\r\n",
      "100%|██████████| 24/24 [00:06<00:00,  3.78it/s]\r\n"
     ]
    },
    {
     "name": "stdout",
     "output_type": "stream",
     "text": [
      "Epoch 83, Val loss 0.082193, Val Accuracy 1.000000\r\n"
     ]
    },
    {
     "name": "stderr",
     "output_type": "stream",
     "text": [
      "100%|██████████| 210/210 [01:00<00:00,  3.50it/s]\r\n",
      "100%|██████████| 24/24 [00:06<00:00,  3.75it/s]\r\n"
     ]
    },
    {
     "name": "stdout",
     "output_type": "stream",
     "text": [
      "Epoch 84, Val loss 0.041518, Val Accuracy 1.000000\r\n"
     ]
    },
    {
     "name": "stderr",
     "output_type": "stream",
     "text": [
      "100%|██████████| 210/210 [01:00<00:00,  3.47it/s]\r\n",
      "100%|██████████| 24/24 [00:06<00:00,  3.78it/s]\r\n"
     ]
    },
    {
     "name": "stdout",
     "output_type": "stream",
     "text": [
      "Epoch 85, Val loss 0.027741, Val Accuracy 1.000000\r\n"
     ]
    },
    {
     "name": "stderr",
     "output_type": "stream",
     "text": [
      "100%|██████████| 210/210 [01:00<00:00,  3.48it/s]\r\n",
      "100%|██████████| 24/24 [00:06<00:00,  3.70it/s]\r\n"
     ]
    },
    {
     "name": "stdout",
     "output_type": "stream",
     "text": [
      "Epoch 86, Val loss 0.052392, Val Accuracy 1.000000\r\n"
     ]
    },
    {
     "name": "stderr",
     "output_type": "stream",
     "text": [
      "100%|██████████| 210/210 [01:01<00:00,  3.44it/s]\r\n",
      "100%|██████████| 24/24 [00:06<00:00,  3.63it/s]\r\n"
     ]
    },
    {
     "name": "stdout",
     "output_type": "stream",
     "text": [
      "Epoch 87, Val loss 0.042205, Val Accuracy 1.000000\r\n"
     ]
    },
    {
     "name": "stderr",
     "output_type": "stream",
     "text": [
      "100%|██████████| 210/210 [01:00<00:00,  3.45it/s]\r\n",
      "100%|██████████| 210/210 [01:00<00:00,  3.48it/s]\r\n",
      "100%|██████████| 24/24 [00:06<00:00,  3.74it/s]\r\n"
     ]
    },
    {
     "name": "stdout",
     "output_type": "stream",
     "text": [
      "Epoch 89, Val loss 0.050426, Val Accuracy 1.000000\r\n"
     ]
    },
    {
     "name": "stderr",
     "output_type": "stream",
     "text": [
      "100%|██████████| 210/210 [01:00<00:00,  3.45it/s]\r\n",
      "100%|██████████| 24/24 [00:06<00:00,  3.65it/s]\r\n"
     ]
    },
    {
     "name": "stdout",
     "output_type": "stream",
     "text": [
      "Epoch 91, Val loss 0.057538, Val Accuracy 1.000000\r\n"
     ]
    },
    {
     "name": "stderr",
     "output_type": "stream",
     "text": [
      "100%|██████████| 210/210 [01:01<00:00,  3.41it/s]\r\n",
      "100%|██████████| 210/210 [01:00<00:00,  3.47it/s]\r\n",
      "100%|██████████| 24/24 [00:06<00:00,  3.78it/s]\r\n"
     ]
    },
    {
     "name": "stdout",
     "output_type": "stream",
     "text": [
      "Epoch 93, Val loss 0.055645, Val Accuracy 1.000000\r\n"
     ]
    },
    {
     "name": "stderr",
     "output_type": "stream",
     "text": [
      "100%|██████████| 210/210 [01:00<00:00,  3.44it/s]\r\n",
      "100%|██████████| 24/24 [00:06<00:00,  3.71it/s]\r\n"
     ]
    },
    {
     "name": "stdout",
     "output_type": "stream",
     "text": [
      "Epoch 94, Val loss 0.036843, Val Accuracy 1.000000\r\n"
     ]
    },
    {
     "name": "stderr",
     "output_type": "stream",
     "text": [
      "100%|██████████| 210/210 [01:01<00:00,  3.41it/s]\r\n",
      "100%|██████████| 24/24 [00:06<00:00,  3.77it/s]\r\n"
     ]
    },
    {
     "name": "stdout",
     "output_type": "stream",
     "text": [
      "Epoch 95, Val loss 0.049753, Val Accuracy 1.000000\r\n"
     ]
    },
    {
     "name": "stderr",
     "output_type": "stream",
     "text": [
      "100%|██████████| 210/210 [01:00<00:00,  3.47it/s]\r\n",
      "100%|██████████| 24/24 [00:06<00:00,  3.69it/s]\r\n"
     ]
    },
    {
     "name": "stdout",
     "output_type": "stream",
     "text": [
      "Epoch 96, Val loss 0.041510, Val Accuracy 1.000000\r\n"
     ]
    },
    {
     "name": "stderr",
     "output_type": "stream",
     "text": [
      "100%|██████████| 210/210 [01:01<00:00,  3.43it/s]\r\n",
      "100%|██████████| 24/24 [00:06<00:00,  3.77it/s]\r\n"
     ]
    },
    {
     "name": "stdout",
     "output_type": "stream",
     "text": [
      "Epoch 97, Val loss 0.049237, Val Accuracy 1.000000\r\n"
     ]
    },
    {
     "name": "stderr",
     "output_type": "stream",
     "text": [
      "100%|██████████| 210/210 [01:00<00:00,  3.46it/s]\r\n",
      "100%|██████████| 24/24 [00:06<00:00,  3.74it/s]\r\n"
     ]
    },
    {
     "name": "stdout",
     "output_type": "stream",
     "text": [
      "Epoch 98, Val loss 0.050160, Val Accuracy 1.000000\r\n"
     ]
    },
    {
     "name": "stderr",
     "output_type": "stream",
     "text": [
      "100%|██████████| 210/210 [01:00<00:00,  3.47it/s]\r\n",
      "100%|██████████| 24/24 [00:06<00:00,  3.71it/s]\r\n"
     ]
    },
    {
     "name": "stdout",
     "output_type": "stream",
     "text": [
      "Epoch 99, Val loss 0.070698, Val Accuracy 1.000000\r\n"
     ]
    },
    {
     "name": "stderr",
     "output_type": "stream",
     "text": [
      "100%|██████████| 210/210 [01:01<00:00,  3.42it/s]\r\n",
      "100%|██████████| 24/24 [00:06<00:00,  3.65it/s]\r\n"
     ]
    },
    {
     "name": "stdout",
     "output_type": "stream",
     "text": [
      "Epoch 100, Val loss 0.053271, Val Accuracy 1.000000\r\n"
     ]
    },
    {
     "name": "stderr",
     "output_type": "stream",
     "text": [
      "100%|██████████| 210/210 [01:00<00:00,  3.46it/s]\r\n",
      "100%|██████████| 24/24 [00:06<00:00,  3.68it/s]\r\n"
     ]
    },
    {
     "name": "stdout",
     "output_type": "stream",
     "text": [
      "Epoch 101, Val loss 0.052823, Val Accuracy 1.000000\r\n"
     ]
    },
    {
     "name": "stderr",
     "output_type": "stream",
     "text": [
      "100%|██████████| 210/210 [01:01<00:00,  3.41it/s]\r\n",
      "100%|██████████| 24/24 [00:06<00:00,  3.74it/s]\r\n"
     ]
    },
    {
     "name": "stdout",
     "output_type": "stream",
     "text": [
      "Epoch 102, Val loss 0.051383, Val Accuracy 1.000000\r\n"
     ]
    },
    {
     "name": "stderr",
     "output_type": "stream",
     "text": [
      "100%|██████████| 210/210 [01:00<00:00,  3.47it/s]\r\n",
      "100%|██████████| 24/24 [00:06<00:00,  3.78it/s]\r\n"
     ]
    },
    {
     "name": "stdout",
     "output_type": "stream",
     "text": [
      "Epoch 103, Val loss 0.053237, Val Accuracy 1.000000\r\n"
     ]
    },
    {
     "name": "stderr",
     "output_type": "stream",
     "text": [
      "100%|██████████| 210/210 [00:59<00:00,  3.50it/s]\r\n",
      "100%|██████████| 24/24 [00:06<00:00,  3.77it/s]\r\n"
     ]
    },
    {
     "name": "stdout",
     "output_type": "stream",
     "text": [
      "Epoch 104, Val loss 0.051681, Val Accuracy 1.000000\r\n"
     ]
    },
    {
     "name": "stderr",
     "output_type": "stream",
     "text": [
      "100%|██████████| 210/210 [01:00<00:00,  3.48it/s]\r\n",
      "100%|██████████| 24/24 [00:06<00:00,  3.64it/s]\r\n"
     ]
    },
    {
     "name": "stdout",
     "output_type": "stream",
     "text": [
      "Epoch 105, Val loss 0.037877, Val Accuracy 1.000000\r\n"
     ]
    },
    {
     "name": "stderr",
     "output_type": "stream",
     "text": [
      "100%|██████████| 210/210 [01:01<00:00,  3.43it/s]\r\n",
      "100%|██████████| 24/24 [00:06<00:00,  3.71it/s]\r\n"
     ]
    },
    {
     "name": "stdout",
     "output_type": "stream",
     "text": [
      "Epoch 106, Val loss 0.048662, Val Accuracy 1.000000\r\n"
     ]
    },
    {
     "name": "stderr",
     "output_type": "stream",
     "text": [
      "100%|██████████| 210/210 [01:00<00:00,  3.46it/s]\r\n",
      "100%|██████████| 24/24 [00:06<00:00,  3.74it/s]\r\n"
     ]
    },
    {
     "name": "stdout",
     "output_type": "stream",
     "text": [
      "Epoch 107, Val loss 0.065129, Val Accuracy 1.000000\r\n"
     ]
    },
    {
     "name": "stderr",
     "output_type": "stream",
     "text": [
      "100%|██████████| 210/210 [01:00<00:00,  3.45it/s]\r\n",
      "100%|██████████| 24/24 [00:06<00:00,  3.75it/s]\r\n"
     ]
    },
    {
     "name": "stdout",
     "output_type": "stream",
     "text": [
      "Epoch 108, Val loss 0.053069, Val Accuracy 1.000000\r\n"
     ]
    },
    {
     "name": "stderr",
     "output_type": "stream",
     "text": [
      "100%|██████████| 210/210 [01:00<00:00,  3.46it/s]\r\n",
      "100%|██████████| 24/24 [00:06<00:00,  3.69it/s]\r\n"
     ]
    },
    {
     "name": "stdout",
     "output_type": "stream",
     "text": [
      "Epoch 109, Val loss 0.057337, Val Accuracy 1.000000\r\n"
     ]
    },
    {
     "name": "stderr",
     "output_type": "stream",
     "text": [
      "100%|██████████| 210/210 [01:00<00:00,  3.46it/s]\r\n",
      "100%|██████████| 24/24 [00:06<00:00,  3.70it/s]\r\n"
     ]
    },
    {
     "name": "stdout",
     "output_type": "stream",
     "text": [
      "Epoch 110, Val loss 0.049153, Val Accuracy 1.000000\r\n"
     ]
    },
    {
     "name": "stderr",
     "output_type": "stream",
     "text": [
      "100%|██████████| 210/210 [01:00<00:00,  3.45it/s]\r\n",
      "100%|██████████| 24/24 [00:06<00:00,  3.73it/s]\r\n"
     ]
    },
    {
     "name": "stdout",
     "output_type": "stream",
     "text": [
      "Epoch 111, Val loss 0.034710, Val Accuracy 1.000000\r\n"
     ]
    },
    {
     "name": "stderr",
     "output_type": "stream",
     "text": [
      "100%|██████████| 210/210 [01:00<00:00,  3.46it/s]\r\n",
      "100%|██████████| 24/24 [00:06<00:00,  3.69it/s]\r\n"
     ]
    },
    {
     "name": "stdout",
     "output_type": "stream",
     "text": [
      "Epoch 112, Val loss 0.041073, Val Accuracy 1.000000\r\n"
     ]
    },
    {
     "name": "stderr",
     "output_type": "stream",
     "text": [
      "100%|██████████| 210/210 [01:01<00:00,  3.42it/s]\r\n",
      "100%|██████████| 24/24 [00:06<00:00,  3.70it/s]\r\n"
     ]
    },
    {
     "name": "stdout",
     "output_type": "stream",
     "text": [
      "Epoch 113, Val loss 0.042107, Val Accuracy 1.000000\r\n"
     ]
    },
    {
     "name": "stderr",
     "output_type": "stream",
     "text": [
      "100%|██████████| 210/210 [01:01<00:00,  3.41it/s]\r\n",
      "100%|██████████| 24/24 [00:06<00:00,  3.69it/s]\r\n"
     ]
    },
    {
     "name": "stdout",
     "output_type": "stream",
     "text": [
      "Epoch 114, Val loss 0.049260, Val Accuracy 1.000000\r\n"
     ]
    },
    {
     "name": "stderr",
     "output_type": "stream",
     "text": [
      "100%|██████████| 210/210 [01:01<00:00,  3.41it/s]\r\n",
      "100%|██████████| 24/24 [00:06<00:00,  3.68it/s]\r\n"
     ]
    },
    {
     "name": "stdout",
     "output_type": "stream",
     "text": [
      "Epoch 115, Val loss 0.049196, Val Accuracy 1.000000\r\n"
     ]
    },
    {
     "name": "stderr",
     "output_type": "stream",
     "text": [
      "100%|██████████| 210/210 [01:01<00:00,  3.42it/s]\r\n",
      "100%|██████████| 24/24 [00:06<00:00,  3.70it/s]\r\n"
     ]
    },
    {
     "name": "stdout",
     "output_type": "stream",
     "text": [
      "Epoch 116, Val loss 0.048255, Val Accuracy 1.000000\r\n"
     ]
    },
    {
     "name": "stderr",
     "output_type": "stream",
     "text": [
      "100%|██████████| 210/210 [01:01<00:00,  3.41it/s]\r\n",
      "100%|██████████| 24/24 [00:06<00:00,  3.75it/s]\r\n"
     ]
    },
    {
     "name": "stdout",
     "output_type": "stream",
     "text": [
      "Epoch 117, Val loss 0.054426, Val Accuracy 1.000000\r\n"
     ]
    },
    {
     "name": "stderr",
     "output_type": "stream",
     "text": [
      "100%|██████████| 210/210 [01:00<00:00,  3.44it/s]\r\n",
      "100%|██████████| 24/24 [00:06<00:00,  3.69it/s]\r\n"
     ]
    },
    {
     "name": "stdout",
     "output_type": "stream",
     "text": [
      "Epoch 118, Val loss 0.067696, Val Accuracy 1.000000\r\n"
     ]
    },
    {
     "name": "stderr",
     "output_type": "stream",
     "text": [
      "100%|██████████| 210/210 [01:01<00:00,  3.42it/s]\r\n",
      "100%|██████████| 24/24 [00:06<00:00,  3.72it/s]\r\n"
     ]
    },
    {
     "name": "stdout",
     "output_type": "stream",
     "text": [
      "Epoch 119, Val loss 0.073431, Val Accuracy 1.000000\r\n"
     ]
    },
    {
     "name": "stderr",
     "output_type": "stream",
     "text": [
      "100%|██████████| 210/210 [01:01<00:00,  3.41it/s]\r\n",
      "100%|██████████| 24/24 [00:06<00:00,  3.69it/s]\r\n"
     ]
    },
    {
     "name": "stdout",
     "output_type": "stream",
     "text": [
      "Epoch 120, Val loss 0.046062, Val Accuracy 1.000000\r\n"
     ]
    },
    {
     "name": "stderr",
     "output_type": "stream",
     "text": [
      "100%|██████████| 210/210 [01:01<00:00,  3.40it/s]\r\n",
      "100%|██████████| 24/24 [00:06<00:00,  3.71it/s]\r\n"
     ]
    },
    {
     "name": "stdout",
     "output_type": "stream",
     "text": [
      "Epoch 121, Val loss 0.040976, Val Accuracy 1.000000\r\n"
     ]
    },
    {
     "name": "stderr",
     "output_type": "stream",
     "text": [
      "100%|██████████| 210/210 [01:01<00:00,  3.42it/s]\r\n",
      "100%|██████████| 24/24 [00:06<00:00,  3.68it/s]\r\n"
     ]
    },
    {
     "name": "stdout",
     "output_type": "stream",
     "text": [
      "Epoch 122, Val loss 0.043394, Val Accuracy 1.000000\r\n"
     ]
    },
    {
     "name": "stderr",
     "output_type": "stream",
     "text": [
      "100%|██████████| 210/210 [01:01<00:00,  3.40it/s]\r\n",
      "100%|██████████| 24/24 [00:06<00:00,  3.69it/s]\r\n"
     ]
    },
    {
     "name": "stdout",
     "output_type": "stream",
     "text": [
      "Epoch 123, Val loss 0.050411, Val Accuracy 1.000000\r\n"
     ]
    },
    {
     "name": "stderr",
     "output_type": "stream",
     "text": [
      "100%|██████████| 210/210 [01:01<00:00,  3.44it/s]\r\n",
      "100%|██████████| 24/24 [00:06<00:00,  3.70it/s]\r\n"
     ]
    },
    {
     "name": "stdout",
     "output_type": "stream",
     "text": [
      "Epoch 124, Val loss 0.051199, Val Accuracy 1.000000\r\n"
     ]
    },
    {
     "name": "stderr",
     "output_type": "stream",
     "text": [
      "100%|██████████| 210/210 [01:01<00:00,  3.41it/s]\r\n",
      "100%|██████████| 24/24 [00:06<00:00,  3.68it/s]\r\n"
     ]
    },
    {
     "name": "stdout",
     "output_type": "stream",
     "text": [
      "Epoch 125, Val loss 0.056169, Val Accuracy 1.000000\r\n"
     ]
    },
    {
     "name": "stderr",
     "output_type": "stream",
     "text": [
      "100%|██████████| 210/210 [01:01<00:00,  3.42it/s]\r\n",
      "100%|██████████| 24/24 [00:06<00:00,  3.74it/s]\r\n"
     ]
    },
    {
     "name": "stdout",
     "output_type": "stream",
     "text": [
      "Epoch 126, Val loss 0.030842, Val Accuracy 1.000000\r\n"
     ]
    },
    {
     "name": "stderr",
     "output_type": "stream",
     "text": [
      "100%|██████████| 210/210 [01:01<00:00,  3.42it/s]\r\n",
      "100%|██████████| 24/24 [00:06<00:00,  3.75it/s]\r\n"
     ]
    },
    {
     "name": "stdout",
     "output_type": "stream",
     "text": [
      "Epoch 127, Val loss 0.048034, Val Accuracy 1.000000\r\n"
     ]
    },
    {
     "name": "stderr",
     "output_type": "stream",
     "text": [
      "100%|██████████| 210/210 [01:00<00:00,  3.48it/s]\r\n",
      "100%|██████████| 24/24 [00:06<00:00,  3.73it/s]\r\n"
     ]
    },
    {
     "name": "stdout",
     "output_type": "stream",
     "text": [
      "Epoch 128, Val loss 0.049554, Val Accuracy 1.000000\r\n"
     ]
    },
    {
     "name": "stderr",
     "output_type": "stream",
     "text": [
      "100%|██████████| 210/210 [01:00<00:00,  3.45it/s]\r\n",
      "100%|██████████| 24/24 [00:06<00:00,  3.67it/s]\r\n"
     ]
    },
    {
     "name": "stdout",
     "output_type": "stream",
     "text": [
      "Epoch 129, Val loss 0.053652, Val Accuracy 1.000000\r\n"
     ]
    },
    {
     "name": "stderr",
     "output_type": "stream",
     "text": [
      "100%|██████████| 210/210 [01:01<00:00,  3.41it/s]\r\n",
      "100%|██████████| 24/24 [00:06<00:00,  3.73it/s]\r\n"
     ]
    },
    {
     "name": "stdout",
     "output_type": "stream",
     "text": [
      "Epoch 130, Val loss 0.076698, Val Accuracy 1.000000\r\n"
     ]
    },
    {
     "name": "stderr",
     "output_type": "stream",
     "text": [
      "100%|██████████| 210/210 [01:00<00:00,  3.47it/s]\r\n",
      "100%|██████████| 24/24 [00:06<00:00,  3.76it/s]\r\n"
     ]
    },
    {
     "name": "stdout",
     "output_type": "stream",
     "text": [
      "Epoch 131, Val loss 0.042192, Val Accuracy 1.000000\r\n"
     ]
    },
    {
     "name": "stderr",
     "output_type": "stream",
     "text": [
      "100%|██████████| 210/210 [01:00<00:00,  3.48it/s]\r\n",
      "100%|██████████| 24/24 [00:06<00:00,  3.76it/s]\r\n"
     ]
    },
    {
     "name": "stdout",
     "output_type": "stream",
     "text": [
      "Epoch 132, Val loss 0.048983, Val Accuracy 1.000000\r\n"
     ]
    },
    {
     "name": "stderr",
     "output_type": "stream",
     "text": [
      "100%|██████████| 210/210 [01:01<00:00,  3.43it/s]\r\n",
      "100%|██████████| 24/24 [00:06<00:00,  3.66it/s]\r\n"
     ]
    },
    {
     "name": "stdout",
     "output_type": "stream",
     "text": [
      "Epoch 133, Val loss 0.046591, Val Accuracy 1.000000\r\n"
     ]
    },
    {
     "name": "stderr",
     "output_type": "stream",
     "text": [
      "100%|██████████| 210/210 [01:00<00:00,  3.48it/s]\r\n",
      "100%|██████████| 24/24 [00:06<00:00,  3.72it/s]\r\n"
     ]
    },
    {
     "name": "stdout",
     "output_type": "stream",
     "text": [
      "Epoch 134, Val loss 0.053725, Val Accuracy 1.000000\r\n"
     ]
    },
    {
     "name": "stderr",
     "output_type": "stream",
     "text": [
      "100%|██████████| 210/210 [01:01<00:00,  3.40it/s]\r\n",
      "100%|██████████| 24/24 [00:06<00:00,  3.66it/s]\r\n"
     ]
    },
    {
     "name": "stdout",
     "output_type": "stream",
     "text": [
      "Epoch 135, Val loss 0.067011, Val Accuracy 1.000000\r\n"
     ]
    },
    {
     "name": "stderr",
     "output_type": "stream",
     "text": [
      "100%|██████████| 210/210 [01:00<00:00,  3.44it/s]\r\n",
      "100%|██████████| 24/24 [00:06<00:00,  3.70it/s]\r\n"
     ]
    },
    {
     "name": "stdout",
     "output_type": "stream",
     "text": [
      "Epoch 136, Val loss 0.039745, Val Accuracy 1.000000\r\n"
     ]
    },
    {
     "name": "stderr",
     "output_type": "stream",
     "text": [
      "100%|██████████| 210/210 [01:01<00:00,  3.42it/s]\r\n",
      "100%|██████████| 24/24 [00:06<00:00,  3.75it/s]\r\n"
     ]
    },
    {
     "name": "stdout",
     "output_type": "stream",
     "text": [
      "Epoch 137, Val loss 0.033283, Val Accuracy 1.000000\r\n"
     ]
    },
    {
     "name": "stderr",
     "output_type": "stream",
     "text": [
      "100%|██████████| 210/210 [01:00<00:00,  3.47it/s]\r\n",
      "100%|██████████| 24/24 [00:06<00:00,  3.54it/s]\r\n"
     ]
    },
    {
     "name": "stdout",
     "output_type": "stream",
     "text": [
      "Epoch 138, Val loss 0.047862, Val Accuracy 1.000000\r\n"
     ]
    },
    {
     "name": "stderr",
     "output_type": "stream",
     "text": [
      "100%|██████████| 210/210 [01:05<00:00,  3.23it/s]\r\n",
      "100%|██████████| 24/24 [00:07<00:00,  3.18it/s]\r\n"
     ]
    },
    {
     "name": "stdout",
     "output_type": "stream",
     "text": [
      "Epoch 139, Val loss 0.044916, Val Accuracy 1.000000\r\n"
     ]
    },
    {
     "name": "stderr",
     "output_type": "stream",
     "text": [
      "100%|██████████| 210/210 [01:02<00:00,  3.35it/s]\r\n",
      "100%|██████████| 24/24 [00:06<00:00,  3.67it/s]\r\n"
     ]
    },
    {
     "name": "stdout",
     "output_type": "stream",
     "text": [
      "Epoch 140, Val loss 0.044592, Val Accuracy 1.000000\r\n"
     ]
    },
    {
     "name": "stderr",
     "output_type": "stream",
     "text": [
      "100%|██████████| 210/210 [01:02<00:00,  3.34it/s]\r\n",
      "100%|██████████| 24/24 [00:06<00:00,  3.67it/s]\r\n"
     ]
    },
    {
     "name": "stdout",
     "output_type": "stream",
     "text": [
      "Epoch 141, Val loss 0.039571, Val Accuracy 1.000000\r\n"
     ]
    },
    {
     "name": "stderr",
     "output_type": "stream",
     "text": [
      "100%|██████████| 210/210 [01:02<00:00,  3.37it/s]\r\n",
      "100%|██████████| 24/24 [00:06<00:00,  3.75it/s]\r\n"
     ]
    },
    {
     "name": "stdout",
     "output_type": "stream",
     "text": [
      "Epoch 142, Val loss 0.042834, Val Accuracy 1.000000\r\n"
     ]
    },
    {
     "name": "stderr",
     "output_type": "stream",
     "text": [
      "100%|██████████| 210/210 [01:02<00:00,  3.34it/s]\r\n",
      "100%|██████████| 24/24 [00:06<00:00,  3.63it/s]\r\n"
     ]
    },
    {
     "name": "stdout",
     "output_type": "stream",
     "text": [
      "Epoch 143, Val loss 0.049441, Val Accuracy 1.000000\r\n"
     ]
    },
    {
     "name": "stderr",
     "output_type": "stream",
     "text": [
      "100%|██████████| 210/210 [01:03<00:00,  3.32it/s]\r\n",
      "100%|██████████| 24/24 [00:06<00:00,  3.64it/s]\r\n"
     ]
    },
    {
     "name": "stdout",
     "output_type": "stream",
     "text": [
      "Epoch 144, Val loss 0.089811, Val Accuracy 1.000000\r\n"
     ]
    },
    {
     "name": "stderr",
     "output_type": "stream",
     "text": [
      "100%|██████████| 210/210 [01:02<00:00,  3.36it/s]\r\n",
      "100%|██████████| 24/24 [00:06<00:00,  3.79it/s]\r\n"
     ]
    },
    {
     "name": "stdout",
     "output_type": "stream",
     "text": [
      "Epoch 145, Val loss 0.064187, Val Accuracy 1.000000\r\n"
     ]
    },
    {
     "name": "stderr",
     "output_type": "stream",
     "text": [
      "100%|██████████| 210/210 [01:00<00:00,  3.47it/s]\r\n",
      "100%|██████████| 24/24 [00:06<00:00,  3.74it/s]\r\n"
     ]
    },
    {
     "name": "stdout",
     "output_type": "stream",
     "text": [
      "Epoch 146, Val loss 0.056663, Val Accuracy 1.000000\r\n"
     ]
    },
    {
     "name": "stderr",
     "output_type": "stream",
     "text": [
      "100%|██████████| 210/210 [01:00<00:00,  3.49it/s]\r\n",
      "100%|██████████| 24/24 [00:06<00:00,  3.73it/s]\r\n"
     ]
    },
    {
     "name": "stdout",
     "output_type": "stream",
     "text": [
      "Epoch 147, Val loss 0.054905, Val Accuracy 1.000000\r\n"
     ]
    },
    {
     "name": "stderr",
     "output_type": "stream",
     "text": [
      "100%|██████████| 210/210 [01:00<00:00,  3.47it/s]\r\n",
      "100%|██████████| 24/24 [00:06<00:00,  3.77it/s]\r\n"
     ]
    },
    {
     "name": "stdout",
     "output_type": "stream",
     "text": [
      "Epoch 148, Val loss 0.048973, Val Accuracy 1.000000\r\n"
     ]
    },
    {
     "name": "stderr",
     "output_type": "stream",
     "text": [
      "100%|██████████| 210/210 [01:01<00:00,  3.43it/s]\r\n",
      "100%|██████████| 24/24 [00:06<00:00,  3.69it/s]\r\n"
     ]
    },
    {
     "name": "stdout",
     "output_type": "stream",
     "text": [
      "Epoch 149, Val loss 0.050656, Val Accuracy 1.000000\r\n"
     ]
    },
    {
     "name": "stderr",
     "output_type": "stream",
     "text": [
      "100%|██████████| 210/210 [01:00<00:00,  3.45it/s]\r\n",
      "100%|██████████| 24/24 [00:06<00:00,  3.67it/s]\r\n"
     ]
    },
    {
     "name": "stdout",
     "output_type": "stream",
     "text": [
      "Epoch 150, Val loss 0.051627, Val Accuracy 1.000000\r\n"
     ]
    },
    {
     "name": "stderr",
     "output_type": "stream",
     "text": [
      "100%|██████████| 210/210 [01:01<00:00,  3.41it/s]\r\n",
      "100%|██████████| 24/24 [00:06<00:00,  3.65it/s]\r\n"
     ]
    },
    {
     "name": "stdout",
     "output_type": "stream",
     "text": [
      "Epoch 151, Val loss 0.112861, Val Accuracy 1.000000\r\n"
     ]
    },
    {
     "name": "stderr",
     "output_type": "stream",
     "text": [
      "100%|██████████| 210/210 [01:01<00:00,  3.44it/s]\r\n",
      "100%|██████████| 24/24 [00:06<00:00,  3.64it/s]\r\n"
     ]
    },
    {
     "name": "stdout",
     "output_type": "stream",
     "text": [
      "Epoch 152, Val loss 0.040656, Val Accuracy 1.000000\r\n"
     ]
    },
    {
     "name": "stderr",
     "output_type": "stream",
     "text": [
      "100%|██████████| 210/210 [01:01<00:00,  3.42it/s]\r\n",
      "100%|██████████| 24/24 [00:06<00:00,  3.68it/s]\r\n"
     ]
    },
    {
     "name": "stdout",
     "output_type": "stream",
     "text": [
      "Epoch 153, Val loss 0.033806, Val Accuracy 1.000000\r\n"
     ]
    },
    {
     "name": "stderr",
     "output_type": "stream",
     "text": [
      "100%|██████████| 210/210 [01:00<00:00,  3.45it/s]\r\n",
      "100%|██████████| 24/24 [00:06<00:00,  3.73it/s]\r\n"
     ]
    },
    {
     "name": "stdout",
     "output_type": "stream",
     "text": [
      "Epoch 154, Val loss 0.063184, Val Accuracy 1.000000\r\n"
     ]
    },
    {
     "name": "stderr",
     "output_type": "stream",
     "text": [
      "100%|██████████| 210/210 [01:00<00:00,  3.45it/s]\r\n",
      "100%|██████████| 24/24 [00:06<00:00,  3.77it/s]\r\n"
     ]
    },
    {
     "name": "stdout",
     "output_type": "stream",
     "text": [
      "Epoch 155, Val loss 0.075085, Val Accuracy 1.000000\r\n"
     ]
    },
    {
     "name": "stderr",
     "output_type": "stream",
     "text": [
      "100%|██████████| 210/210 [01:00<00:00,  3.48it/s]\r\n",
      "100%|██████████| 24/24 [00:06<00:00,  3.72it/s]\r\n"
     ]
    },
    {
     "name": "stdout",
     "output_type": "stream",
     "text": [
      "Epoch 156, Val loss 0.169505, Val Accuracy 1.000000\r\n"
     ]
    },
    {
     "name": "stderr",
     "output_type": "stream",
     "text": [
      "100%|██████████| 210/210 [01:00<00:00,  3.46it/s]\r\n",
      "100%|██████████| 24/24 [00:06<00:00,  3.77it/s]\r\n"
     ]
    },
    {
     "name": "stdout",
     "output_type": "stream",
     "text": [
      "Epoch 157, Val loss 0.051205, Val Accuracy 1.000000\r\n"
     ]
    },
    {
     "name": "stderr",
     "output_type": "stream",
     "text": [
      "100%|██████████| 210/210 [01:00<00:00,  3.48it/s]\r\n",
      "100%|██████████| 24/24 [00:06<00:00,  3.76it/s]\r\n"
     ]
    },
    {
     "name": "stdout",
     "output_type": "stream",
     "text": [
      "Epoch 166, Val loss 0.065999, Val Accuracy 1.000000\r\n"
     ]
    },
    {
     "name": "stderr",
     "output_type": "stream",
     "text": [
      "100%|██████████| 210/210 [01:00<00:00,  3.46it/s]\r\n",
      "100%|██████████| 24/24 [00:06<00:00,  3.72it/s]\r\n"
     ]
    },
    {
     "name": "stdout",
     "output_type": "stream",
     "text": [
      "Epoch 167, Val loss 0.062824, Val Accuracy 1.000000\r\n"
     ]
    },
    {
     "name": "stderr",
     "output_type": "stream",
     "text": [
      "100%|██████████| 210/210 [01:00<00:00,  3.46it/s]\r\n",
      "100%|██████████| 24/24 [00:06<00:00,  3.74it/s]\r\n"
     ]
    },
    {
     "name": "stdout",
     "output_type": "stream",
     "text": [
      "Epoch 168, Val loss 0.072403, Val Accuracy 1.000000\r\n"
     ]
    },
    {
     "name": "stderr",
     "output_type": "stream",
     "text": [
      "100%|██████████| 210/210 [01:00<00:00,  3.48it/s]\r\n",
      "100%|██████████| 24/24 [00:06<00:00,  3.71it/s]\r\n"
     ]
    },
    {
     "name": "stdout",
     "output_type": "stream",
     "text": [
      "Epoch 169, Val loss 0.066325, Val Accuracy 1.000000\r\n"
     ]
    },
    {
     "name": "stderr",
     "output_type": "stream",
     "text": [
      "100%|██████████| 210/210 [01:01<00:00,  3.42it/s]\r\n",
      "100%|██████████| 24/24 [00:06<00:00,  3.74it/s]\r\n"
     ]
    },
    {
     "name": "stdout",
     "output_type": "stream",
     "text": [
      "Epoch 170, Val loss 0.073216, Val Accuracy 1.000000\r\n"
     ]
    },
    {
     "name": "stderr",
     "output_type": "stream",
     "text": [
      "100%|██████████| 210/210 [01:00<00:00,  3.48it/s]\r\n",
      "100%|██████████| 24/24 [00:06<00:00,  3.76it/s]\r\n"
     ]
    },
    {
     "name": "stdout",
     "output_type": "stream",
     "text": [
      "Epoch 171, Val loss 0.064331, Val Accuracy 1.000000\r\n"
     ]
    },
    {
     "name": "stderr",
     "output_type": "stream",
     "text": [
      "100%|██████████| 210/210 [01:00<00:00,  3.49it/s]\r\n",
      "100%|██████████| 24/24 [00:06<00:00,  3.70it/s]\r\n"
     ]
    },
    {
     "name": "stdout",
     "output_type": "stream",
     "text": [
      "Epoch 172, Val loss 0.068767, Val Accuracy 1.000000\r\n"
     ]
    },
    {
     "name": "stderr",
     "output_type": "stream",
     "text": [
      "100%|██████████| 210/210 [01:00<00:00,  3.46it/s]\r\n",
      "100%|██████████| 24/24 [00:06<00:00,  3.72it/s]\r\n"
     ]
    },
    {
     "name": "stdout",
     "output_type": "stream",
     "text": [
      "Epoch 173, Val loss 0.069722, Val Accuracy 1.000000\r\n"
     ]
    },
    {
     "name": "stderr",
     "output_type": "stream",
     "text": [
      "100%|██████████| 210/210 [01:00<00:00,  3.47it/s]\r\n",
      "100%|██████████| 24/24 [00:06<00:00,  3.74it/s]\r\n"
     ]
    },
    {
     "name": "stdout",
     "output_type": "stream",
     "text": [
      "Epoch 174, Val loss 0.069299, Val Accuracy 1.000000\r\n"
     ]
    },
    {
     "name": "stderr",
     "output_type": "stream",
     "text": [
      "100%|██████████| 210/210 [01:00<00:00,  3.46it/s]\r\n",
      "100%|██████████| 24/24 [00:06<00:00,  3.78it/s]\r\n"
     ]
    },
    {
     "name": "stdout",
     "output_type": "stream",
     "text": [
      "Epoch 175, Val loss 0.055286, Val Accuracy 1.000000\r\n"
     ]
    },
    {
     "name": "stderr",
     "output_type": "stream",
     "text": [
      "100%|██████████| 210/210 [01:00<00:00,  3.47it/s]\r\n",
      "100%|██████████| 24/24 [00:06<00:00,  3.74it/s]\r\n"
     ]
    },
    {
     "name": "stdout",
     "output_type": "stream",
     "text": [
      "Epoch 176, Val loss 0.055721, Val Accuracy 1.000000\r\n"
     ]
    },
    {
     "name": "stderr",
     "output_type": "stream",
     "text": [
      "100%|██████████| 210/210 [01:00<00:00,  3.47it/s]\r\n",
      "100%|██████████| 24/24 [00:06<00:00,  3.74it/s]\r\n"
     ]
    },
    {
     "name": "stdout",
     "output_type": "stream",
     "text": [
      "Epoch 177, Val loss 0.061076, Val Accuracy 1.000000\r\n"
     ]
    },
    {
     "name": "stderr",
     "output_type": "stream",
     "text": [
      "100%|██████████| 210/210 [01:00<00:00,  3.48it/s]\r\n",
      "100%|██████████| 24/24 [00:06<00:00,  3.76it/s]\r\n"
     ]
    },
    {
     "name": "stdout",
     "output_type": "stream",
     "text": [
      "Epoch 178, Val loss 0.074238, Val Accuracy 1.000000\r\n"
     ]
    },
    {
     "name": "stderr",
     "output_type": "stream",
     "text": [
      "100%|██████████| 210/210 [01:00<00:00,  3.48it/s]\r\n",
      "100%|██████████| 24/24 [00:06<00:00,  3.77it/s]\r\n"
     ]
    },
    {
     "name": "stdout",
     "output_type": "stream",
     "text": [
      "Epoch 179, Val loss 0.067493, Val Accuracy 1.000000\r\n"
     ]
    },
    {
     "name": "stderr",
     "output_type": "stream",
     "text": [
      "100%|██████████| 210/210 [01:00<00:00,  3.45it/s]\r\n",
      "100%|██████████| 24/24 [00:06<00:00,  3.70it/s]\r\n"
     ]
    },
    {
     "name": "stdout",
     "output_type": "stream",
     "text": [
      "Epoch 180, Val loss 0.066826, Val Accuracy 1.000000\r\n"
     ]
    },
    {
     "name": "stderr",
     "output_type": "stream",
     "text": [
      "100%|██████████| 210/210 [01:01<00:00,  3.41it/s]\r\n",
      "100%|██████████| 24/24 [00:06<00:00,  3.66it/s]\r\n"
     ]
    },
    {
     "name": "stdout",
     "output_type": "stream",
     "text": [
      "Epoch 181, Val loss 0.064184, Val Accuracy 1.000000\r\n"
     ]
    },
    {
     "name": "stderr",
     "output_type": "stream",
     "text": [
      "100%|██████████| 210/210 [01:01<00:00,  3.41it/s]\r\n",
      "100%|██████████| 24/24 [00:06<00:00,  3.64it/s]\r\n"
     ]
    },
    {
     "name": "stdout",
     "output_type": "stream",
     "text": [
      "Epoch 182, Val loss 0.064876, Val Accuracy 1.000000\r\n"
     ]
    },
    {
     "name": "stderr",
     "output_type": "stream",
     "text": [
      "100%|██████████| 210/210 [01:00<00:00,  3.44it/s]\r\n",
      "100%|██████████| 24/24 [00:06<00:00,  3.75it/s]\r\n"
     ]
    },
    {
     "name": "stdout",
     "output_type": "stream",
     "text": [
      "Epoch 183, Val loss 0.057597, Val Accuracy 1.000000\r\n"
     ]
    },
    {
     "name": "stderr",
     "output_type": "stream",
     "text": [
      "100%|██████████| 210/210 [01:00<00:00,  3.48it/s]\r\n",
      "100%|██████████| 24/24 [00:06<00:00,  3.74it/s]\r\n"
     ]
    },
    {
     "name": "stdout",
     "output_type": "stream",
     "text": [
      "Epoch 184, Val loss 0.068348, Val Accuracy 1.000000\r\n"
     ]
    },
    {
     "name": "stderr",
     "output_type": "stream",
     "text": [
      "100%|██████████| 210/210 [01:00<00:00,  3.46it/s]\r\n",
      "100%|██████████| 24/24 [00:06<00:00,  3.72it/s]\r\n"
     ]
    },
    {
     "name": "stdout",
     "output_type": "stream",
     "text": [
      "Epoch 185, Val loss 0.070957, Val Accuracy 1.000000\r\n"
     ]
    },
    {
     "name": "stderr",
     "output_type": "stream",
     "text": [
      "100%|██████████| 210/210 [01:01<00:00,  3.43it/s]\r\n",
      "100%|██████████| 24/24 [00:06<00:00,  3.69it/s]\r\n"
     ]
    },
    {
     "name": "stdout",
     "output_type": "stream",
     "text": [
      "Epoch 186, Val loss 0.069718, Val Accuracy 1.000000\r\n"
     ]
    },
    {
     "name": "stderr",
     "output_type": "stream",
     "text": [
      "100%|██████████| 210/210 [01:00<00:00,  3.46it/s]\r\n",
      "100%|██████████| 24/24 [00:06<00:00,  3.72it/s]\r\n"
     ]
    },
    {
     "name": "stdout",
     "output_type": "stream",
     "text": [
      "Epoch 187, Val loss 0.059757, Val Accuracy 1.000000\r\n"
     ]
    },
    {
     "name": "stderr",
     "output_type": "stream",
     "text": [
      "100%|██████████| 210/210 [01:00<00:00,  3.45it/s]\r\n",
      "100%|██████████| 24/24 [00:06<00:00,  3.73it/s]\r\n"
     ]
    },
    {
     "name": "stdout",
     "output_type": "stream",
     "text": [
      "Epoch 188, Val loss 0.043881, Val Accuracy 1.000000\r\n"
     ]
    },
    {
     "name": "stderr",
     "output_type": "stream",
     "text": [
      "100%|██████████| 210/210 [01:00<00:00,  3.49it/s]\r\n",
      "100%|██████████| 24/24 [00:06<00:00,  3.76it/s]\r\n"
     ]
    },
    {
     "name": "stdout",
     "output_type": "stream",
     "text": [
      "Epoch 189, Val loss 0.044911, Val Accuracy 1.000000\r\n"
     ]
    },
    {
     "name": "stderr",
     "output_type": "stream",
     "text": [
      "100%|██████████| 210/210 [01:00<00:00,  3.45it/s]\r\n",
      "100%|██████████| 24/24 [00:06<00:00,  3.76it/s]\r\n"
     ]
    },
    {
     "name": "stdout",
     "output_type": "stream",
     "text": [
      "Epoch 190, Val loss 0.053271, Val Accuracy 1.000000\r\n"
     ]
    },
    {
     "name": "stderr",
     "output_type": "stream",
     "text": [
      "100%|██████████| 210/210 [01:00<00:00,  3.49it/s]\r\n",
      "100%|██████████| 24/24 [00:06<00:00,  3.78it/s]\r\n"
     ]
    },
    {
     "name": "stdout",
     "output_type": "stream",
     "text": [
      "Epoch 191, Val loss 0.048893, Val Accuracy 1.000000\r\n"
     ]
    },
    {
     "name": "stderr",
     "output_type": "stream",
     "text": [
      "100%|██████████| 210/210 [01:00<00:00,  3.49it/s]\r\n",
      "100%|██████████| 24/24 [00:06<00:00,  3.76it/s]\r\n"
     ]
    },
    {
     "name": "stdout",
     "output_type": "stream",
     "text": [
      "Epoch 192, Val loss 0.046961, Val Accuracy 1.000000\r\n"
     ]
    },
    {
     "name": "stderr",
     "output_type": "stream",
     "text": [
      "100%|██████████| 210/210 [01:00<00:00,  3.50it/s]\r\n",
      "100%|██████████| 24/24 [00:06<00:00,  3.72it/s]\r\n"
     ]
    },
    {
     "name": "stdout",
     "output_type": "stream",
     "text": [
      "Epoch 193, Val loss 0.060625, Val Accuracy 1.000000\r\n"
     ]
    },
    {
     "name": "stderr",
     "output_type": "stream",
     "text": [
      "100%|██████████| 210/210 [01:00<00:00,  3.47it/s]\r\n",
      "100%|██████████| 24/24 [00:06<00:00,  3.73it/s]\r\n"
     ]
    },
    {
     "name": "stdout",
     "output_type": "stream",
     "text": [
      "Epoch 194, Val loss 0.050394, Val Accuracy 1.000000\r\n"
     ]
    },
    {
     "name": "stderr",
     "output_type": "stream",
     "text": [
      "100%|██████████| 210/210 [01:01<00:00,  3.44it/s]\r\n",
      "100%|██████████| 24/24 [00:06<00:00,  3.70it/s]\r\n"
     ]
    },
    {
     "name": "stdout",
     "output_type": "stream",
     "text": [
      "Epoch 195, Val loss 0.045755, Val Accuracy 1.000000\r\n"
     ]
    },
    {
     "name": "stderr",
     "output_type": "stream",
     "text": [
      "100%|██████████| 210/210 [01:01<00:00,  3.42it/s]\r\n",
      "100%|██████████| 24/24 [00:06<00:00,  3.71it/s]\r\n"
     ]
    },
    {
     "name": "stdout",
     "output_type": "stream",
     "text": [
      "Epoch 196, Val loss 0.049966, Val Accuracy 1.000000\r\n"
     ]
    },
    {
     "name": "stderr",
     "output_type": "stream",
     "text": [
      "100%|██████████| 210/210 [01:01<00:00,  3.41it/s]\r\n",
      "100%|██████████| 24/24 [00:06<00:00,  3.79it/s]\r\n"
     ]
    },
    {
     "name": "stdout",
     "output_type": "stream",
     "text": [
      "Epoch 197, Val loss 0.050068, Val Accuracy 1.000000\r\n"
     ]
    },
    {
     "name": "stderr",
     "output_type": "stream",
     "text": [
      "100%|██████████| 210/210 [01:00<00:00,  3.48it/s]\r\n",
      "100%|██████████| 24/24 [00:06<00:00,  3.74it/s]\r\n"
     ]
    },
    {
     "name": "stdout",
     "output_type": "stream",
     "text": [
      "Epoch 198, Val loss 0.099612, Val Accuracy 1.000000\r\n"
     ]
    },
    {
     "name": "stderr",
     "output_type": "stream",
     "text": [
      "100%|██████████| 210/210 [01:00<00:00,  3.47it/s]\r\n",
      "100%|██████████| 24/24 [00:06<00:00,  3.74it/s]"
     ]
    },
    {
     "name": "stdout",
     "output_type": "stream",
     "text": [
      "Epoch 199, Val loss 0.048090, Val Accuracy 1.000000\r\n"
     ]
    },
    {
     "name": "stderr",
     "output_type": "stream",
     "text": [
      "\r\n"
     ]
    }
   ],
   "source": [
    "epochs=200\n",
    "best_accuracy=0\n",
    "for epoch in range(epochs): # 训练 30 轮\n",
    "    # 训练过程\n",
    "    model.train() # 切换模型为训练模式\n",
    "    for batch_x in tqdm(train_loader): # 每次从数据加载器读入一批(batch)数据\n",
    "        X = tokenizer(batch_x[\"content\"], max_length=1015, padding=True) # 将数据转换为模块可处理的数据形式\n",
    "        input_ids = paddle.to_tensor(X['input_ids'], dtype=\"int32\") # 将 input_ids 变为张量，方便并行计算\n",
    "        token_type_ids = paddle.to_tensor(X['token_type_ids'], dtype=\"int32\") # 将 token_type_ids 变为张量\n",
    "        pred = model(input_ids, token_type_ids) # 将数据读入模型，并得到计算后的结果\n",
    "        loss = loss_fn(pred, paddle.to_tensor(batch_x[\"label\"], dtype=\"int32\")) # 对比预测结果与真实结果，计算损失函数的值\n",
    "        loss.backward() # 反向传播，计算梯度\n",
    "        optimizer.step() # 优化器根据梯度与学习率调整模型参数\n",
    "        optimizer.clear_gradients() # 清空梯度，避免下次梯度计算时累加\n",
    "\n",
    "    # 验证过程\n",
    "    model.eval() # 切换模型为验证模式\n",
    "    val_loss = [] # 验证集数据的损失函数合集\n",
    "    with paddle.no_grad(): # 在模型验证时，只做前向计算，因此不需要保存梯度信息\n",
    "        for batch_x in tqdm(valid_loader): # 下面的操作与训练过程相同\n",
    "            X = tokenizer(batch_x[\"content\"], max_length=1015, padding=True)\n",
    "            input_ids = paddle.to_tensor(X['input_ids'], dtype=\"int32\")\n",
    "            token_type_ids = paddle.to_tensor(X['token_type_ids'], dtype=\"int32\")\n",
    "            pred = model(input_ids, token_type_ids)\n",
    "            loss = loss_fn(pred, paddle.to_tensor(batch_x[\"label\"], dtype=\"int32\"))\n",
    "            val_loss.append(loss.item()) # 将计算出的损失函数值存入合集\n",
    "            \n",
    "    # 打印本轮训练的验证集损失函数值，与预测正确率\n",
    "    accuracy = (pred.argmax(1) == batch_x[\"label\"]).astype('float').mean().item()\n",
    "    print('Epoch {0}, Val loss {1:3f}, Val Accuracy {2:3f}'.format(\n",
    "    epoch,\n",
    "    np.mean(val_loss), \n",
    "    (pred.argmax(1) == batch_x[\"label\"]).astype('float').mean().item()\n",
    "))\n",
    "    if accuracy>best_accuracy:\n",
    "        paddle.save(model.state_dict(),\"/home/aistudio/work/model_best.pdparams\")\n",
    "        paddle.save(optimizer.state_dict(), \"/home/aistudio/work/optimizer_best.pdopt\")\n",
    "        best_accuracy=accuracy\n",
    "\n",
    "paddle.save(model.state_dict(),\"/home/aistudio/work/model.pdparams\")\n",
    "paddle.save(optimizer.state_dict(), \"/home/aistudio/work/optimizer.pdopt\")"
   ]
  },
  {
   "cell_type": "markdown",
   "id": "33bc2550-9d5e-45ce-abac-958cd69c9b65",
   "metadata": {},
   "source": [
    "**迭代时注意更新条件**"
   ]
  },
  {
   "cell_type": "code",
   "execution_count": 7,
   "id": "8512a0d7-ab53-41f9-be1b-c62aec33dc90",
   "metadata": {
    "execution": {
     "iopub.execute_input": "2023-08-08T05:09:49.646862Z",
     "iopub.status.busy": "2023-08-08T05:09:49.646034Z",
     "iopub.status.idle": "2023-08-08T05:09:50.591981Z",
     "shell.execute_reply": "2023-08-08T05:09:50.591061Z",
     "shell.execute_reply.started": "2023-08-08T05:09:49.646832Z"
    },
    "scrolled": true
   },
   "outputs": [],
   "source": [
    "# 如果你拿到了模型参数（在 AIStudio 中提供），你可以运行这行代码，如果直接运行模型，则没有必要运行\n",
    "\n",
    "# 载入模型参数、优化器参数的最后一个epoch保存的检查点\n",
    "layer_state_dict = paddle.load(\"/home/aistudio/work/model_best.pdparams\")\n",
    "opt_state_dict = paddle.load(\"/home/aistudio/work/optimizer_best.pdopt\")\n",
    "\n",
    "# 将加载后的参数与模型关联起来\n",
    "model.set_state_dict(layer_state_dict)\n",
    "optimizer.set_state_dict(opt_state_dict)"
   ]
  },
  {
   "cell_type": "code",
   "execution_count": 8,
   "id": "34db68bf-3298-47b1-9e29-eb088d07d838",
   "metadata": {
    "execution": {
     "iopub.execute_input": "2023-08-08T05:09:50.594126Z",
     "iopub.status.busy": "2023-08-08T05:09:50.593299Z",
     "iopub.status.idle": "2023-08-08T05:09:50.599177Z",
     "shell.execute_reply": "2023-08-08T05:09:50.598564Z",
     "shell.execute_reply.started": "2023-08-08T05:09:50.594095Z"
    },
    "scrolled": true
   },
   "outputs": [],
   "source": [
    "def infer(string: str) -> int:\n",
    "    \"\"\"将文本传入模型并返回预测结果\n",
    "    \n",
    "    输入：\n",
    "        - string: str\n",
    "            待预测的文本内容\n",
    "    \n",
    "    输出:\n",
    "        - result: int\n",
    "            模型的预测结果\n",
    "    \"\"\"\n",
    "    X = tokenizer([string], max_length=1015, padding=True)\n",
    "    input_ids = paddle.to_tensor(X['input_ids'], dtype=\"int32\")\n",
    "    token_type_ids = paddle.to_tensor(X['token_type_ids'], dtype=\"int32\")\n",
    "    pred = model(input_ids, token_type_ids)\n",
    "    result = pred.argmax(1).item() # 获取预测概率最大的那个类别\n",
    "    return result"
   ]
  },
  {
   "cell_type": "code",
   "execution_count": 9,
   "id": "299f4c67-98e5-476b-8183-1d16db89d7bb",
   "metadata": {
    "execution": {
     "iopub.execute_input": "2023-08-08T05:09:50.600671Z",
     "iopub.status.busy": "2023-08-08T05:09:50.600099Z",
     "iopub.status.idle": "2023-08-08T05:11:54.661265Z",
     "shell.execute_reply": "2023-08-08T05:11:54.660223Z",
     "shell.execute_reply.started": "2023-08-08T05:09:50.600648Z"
    },
    "scrolled": true
   },
   "outputs": [],
   "source": [
    "test_data[\"label\"] = test_data[\"content\"].apply(infer) # 将测试集的每个文本送入模型返回结果\n",
    "submit = test_data.drop(columns=[\"content\"]) # 生成提交数据（就是把带结果的测试集丢掉内容，复制一份）\n",
    "submit.to_csv(\"submit3.csv\", index=False) # 保存 CSV 文件"
   ]
  }
 ],
 "metadata": {
  "kernelspec": {
   "display_name": "Python 3 (ipykernel)",
   "language": "python",
   "name": "python3"
  },
  "language_info": {
   "codemirror_mode": {
    "name": "ipython",
    "version": 3
   },
   "file_extension": ".py",
   "mimetype": "text/x-python",
   "name": "python",
   "nbconvert_exporter": "python",
   "pygments_lexer": "ipython3",
   "version": "3.11.4"
  }
 },
 "nbformat": 4,
 "nbformat_minor": 5
}
